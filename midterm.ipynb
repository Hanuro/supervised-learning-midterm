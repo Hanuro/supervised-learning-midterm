{
 "cells": [
  {
   "cell_type": "markdown",
   "metadata": {},
   "source": [
    "# Imports"
   ]
  },
  {
   "cell_type": "code",
   "execution_count": 156,
   "metadata": {},
   "outputs": [],
   "source": [
    "import pandas as pd\n",
    "import numpy as np\n",
    "import missingno\n",
    "import matplotlib.pyplot as plt\n",
    "from sklearn.linear_model import LinearRegression\n",
    "import seaborn as sns\n"
   ]
  },
  {
   "cell_type": "markdown",
   "metadata": {},
   "source": [
    "# Question 1:"
   ]
  },
  {
   "cell_type": "markdown",
   "metadata": {},
   "source": [
    "### Reading the dataset"
   ]
  },
  {
   "cell_type": "code",
   "execution_count": 157,
   "metadata": {},
   "outputs": [
    {
     "data": {
      "text/html": [
       "<div>\n",
       "<style scoped>\n",
       "    .dataframe tbody tr th:only-of-type {\n",
       "        vertical-align: middle;\n",
       "    }\n",
       "\n",
       "    .dataframe tbody tr th {\n",
       "        vertical-align: top;\n",
       "    }\n",
       "\n",
       "    .dataframe thead th {\n",
       "        text-align: right;\n",
       "    }\n",
       "</style>\n",
       "<table border=\"1\" class=\"dataframe\">\n",
       "  <thead>\n",
       "    <tr style=\"text-align: right;\">\n",
       "      <th></th>\n",
       "      <th>Unnamed: 0</th>\n",
       "      <th>Player_Score_0</th>\n",
       "      <th>Player_Score_1</th>\n",
       "      <th>Player_Score_2</th>\n",
       "      <th>Player_Score_3</th>\n",
       "      <th>Player_Score_4</th>\n",
       "      <th>Player_Score_5</th>\n",
       "      <th>Player_Score_6</th>\n",
       "      <th>Score</th>\n",
       "      <th>Performance</th>\n",
       "      <th>Country</th>\n",
       "      <th>Players_Injured</th>\n",
       "    </tr>\n",
       "  </thead>\n",
       "  <tbody>\n",
       "    <tr>\n",
       "      <th>0</th>\n",
       "      <td>0</td>\n",
       "      <td>-0.2924</td>\n",
       "      <td>-0.3871</td>\n",
       "      <td>0.8317</td>\n",
       "      <td>0.2060</td>\n",
       "      <td>NaN</td>\n",
       "      <td>0.2060</td>\n",
       "      <td>-0.2424</td>\n",
       "      <td>82.9055</td>\n",
       "      <td>below_average</td>\n",
       "      <td>France</td>\n",
       "      <td>1</td>\n",
       "    </tr>\n",
       "    <tr>\n",
       "      <th>1</th>\n",
       "      <td>1</td>\n",
       "      <td>0.1389</td>\n",
       "      <td>0.3659</td>\n",
       "      <td>0.5547</td>\n",
       "      <td>NaN</td>\n",
       "      <td>0.6240</td>\n",
       "      <td>NaN</td>\n",
       "      <td>1.1762</td>\n",
       "      <td>27.3858</td>\n",
       "      <td>below_average</td>\n",
       "      <td>Finland</td>\n",
       "      <td>2</td>\n",
       "    </tr>\n",
       "    <tr>\n",
       "      <th>2</th>\n",
       "      <td>2</td>\n",
       "      <td>0.9248</td>\n",
       "      <td>-2.3541</td>\n",
       "      <td>0.8332</td>\n",
       "      <td>-0.0715</td>\n",
       "      <td>0.1905</td>\n",
       "      <td>-0.0715</td>\n",
       "      <td>-0.7963</td>\n",
       "      <td>78.9628</td>\n",
       "      <td>neutral</td>\n",
       "      <td>Germany</td>\n",
       "      <td>0</td>\n",
       "    </tr>\n",
       "    <tr>\n",
       "      <th>3</th>\n",
       "      <td>3</td>\n",
       "      <td>-0.4830</td>\n",
       "      <td>0.2304</td>\n",
       "      <td>-1.0753</td>\n",
       "      <td>-0.0744</td>\n",
       "      <td>-1.1175</td>\n",
       "      <td>-0.0744</td>\n",
       "      <td>-3.0012</td>\n",
       "      <td>80.2715</td>\n",
       "      <td>below_average</td>\n",
       "      <td>Finland</td>\n",
       "      <td>0</td>\n",
       "    </tr>\n",
       "    <tr>\n",
       "      <th>4</th>\n",
       "      <td>4</td>\n",
       "      <td>-0.6334</td>\n",
       "      <td>1.3354</td>\n",
       "      <td>2.0009</td>\n",
       "      <td>-0.3142</td>\n",
       "      <td>-0.7913</td>\n",
       "      <td>-0.3142</td>\n",
       "      <td>-0.0846</td>\n",
       "      <td>102.4383</td>\n",
       "      <td>average</td>\n",
       "      <td>Norway</td>\n",
       "      <td>1</td>\n",
       "    </tr>\n",
       "    <tr>\n",
       "      <th>...</th>\n",
       "      <td>...</td>\n",
       "      <td>...</td>\n",
       "      <td>...</td>\n",
       "      <td>...</td>\n",
       "      <td>...</td>\n",
       "      <td>...</td>\n",
       "      <td>...</td>\n",
       "      <td>...</td>\n",
       "      <td>...</td>\n",
       "      <td>...</td>\n",
       "      <td>...</td>\n",
       "      <td>...</td>\n",
       "    </tr>\n",
       "    <tr>\n",
       "      <th>415</th>\n",
       "      <td>415</td>\n",
       "      <td>-2.4103</td>\n",
       "      <td>-0.2195</td>\n",
       "      <td>1.8519</td>\n",
       "      <td>NaN</td>\n",
       "      <td>0.9716</td>\n",
       "      <td>NaN</td>\n",
       "      <td>-0.2128</td>\n",
       "      <td>114.0887</td>\n",
       "      <td>below_average</td>\n",
       "      <td>Switzerland</td>\n",
       "      <td>1</td>\n",
       "    </tr>\n",
       "    <tr>\n",
       "      <th>416</th>\n",
       "      <td>416</td>\n",
       "      <td>0.1458</td>\n",
       "      <td>-0.0600</td>\n",
       "      <td>-0.1449</td>\n",
       "      <td>NaN</td>\n",
       "      <td>NaN</td>\n",
       "      <td>NaN</td>\n",
       "      <td>3.0714</td>\n",
       "      <td>21.9961</td>\n",
       "      <td>above_average</td>\n",
       "      <td>Finland</td>\n",
       "      <td>1</td>\n",
       "    </tr>\n",
       "    <tr>\n",
       "      <th>417</th>\n",
       "      <td>417</td>\n",
       "      <td>-0.4520</td>\n",
       "      <td>0.0608</td>\n",
       "      <td>-0.9824</td>\n",
       "      <td>0.9211</td>\n",
       "      <td>1.5176</td>\n",
       "      <td>0.9211</td>\n",
       "      <td>-0.1139</td>\n",
       "      <td>50.7298</td>\n",
       "      <td>neutral</td>\n",
       "      <td>Italy</td>\n",
       "      <td>0</td>\n",
       "    </tr>\n",
       "    <tr>\n",
       "      <th>418</th>\n",
       "      <td>418</td>\n",
       "      <td>0.3949</td>\n",
       "      <td>-0.0913</td>\n",
       "      <td>0.0339</td>\n",
       "      <td>NaN</td>\n",
       "      <td>0.7586</td>\n",
       "      <td>NaN</td>\n",
       "      <td>0.0767</td>\n",
       "      <td>11.3839</td>\n",
       "      <td>extraordinary</td>\n",
       "      <td>Germany</td>\n",
       "      <td>1</td>\n",
       "    </tr>\n",
       "    <tr>\n",
       "      <th>419</th>\n",
       "      <td>419</td>\n",
       "      <td>1.7623</td>\n",
       "      <td>0.8737</td>\n",
       "      <td>-0.8829</td>\n",
       "      <td>NaN</td>\n",
       "      <td>-0.5120</td>\n",
       "      <td>NaN</td>\n",
       "      <td>0.3555</td>\n",
       "      <td>19.0997</td>\n",
       "      <td>neutral</td>\n",
       "      <td>Switzerland</td>\n",
       "      <td>0</td>\n",
       "    </tr>\n",
       "  </tbody>\n",
       "</table>\n",
       "<p>420 rows × 12 columns</p>\n",
       "</div>"
      ],
      "text/plain": [
       "     Unnamed: 0  Player_Score_0  Player_Score_1  Player_Score_2  \\\n",
       "0             0         -0.2924         -0.3871          0.8317   \n",
       "1             1          0.1389          0.3659          0.5547   \n",
       "2             2          0.9248         -2.3541          0.8332   \n",
       "3             3         -0.4830          0.2304         -1.0753   \n",
       "4             4         -0.6334          1.3354          2.0009   \n",
       "..          ...             ...             ...             ...   \n",
       "415         415         -2.4103         -0.2195          1.8519   \n",
       "416         416          0.1458         -0.0600         -0.1449   \n",
       "417         417         -0.4520          0.0608         -0.9824   \n",
       "418         418          0.3949         -0.0913          0.0339   \n",
       "419         419          1.7623          0.8737         -0.8829   \n",
       "\n",
       "     Player_Score_3  Player_Score_4  Player_Score_5  Player_Score_6     Score  \\\n",
       "0            0.2060             NaN          0.2060         -0.2424   82.9055   \n",
       "1               NaN          0.6240             NaN          1.1762   27.3858   \n",
       "2           -0.0715          0.1905         -0.0715         -0.7963   78.9628   \n",
       "3           -0.0744         -1.1175         -0.0744         -3.0012   80.2715   \n",
       "4           -0.3142         -0.7913         -0.3142         -0.0846  102.4383   \n",
       "..              ...             ...             ...             ...       ...   \n",
       "415             NaN          0.9716             NaN         -0.2128  114.0887   \n",
       "416             NaN             NaN             NaN          3.0714   21.9961   \n",
       "417          0.9211          1.5176          0.9211         -0.1139   50.7298   \n",
       "418             NaN          0.7586             NaN          0.0767   11.3839   \n",
       "419             NaN         -0.5120             NaN          0.3555   19.0997   \n",
       "\n",
       "       Performance      Country  Players_Injured  \n",
       "0    below_average       France                1  \n",
       "1    below_average      Finland                2  \n",
       "2          neutral      Germany                0  \n",
       "3    below_average      Finland                0  \n",
       "4          average       Norway                1  \n",
       "..             ...          ...              ...  \n",
       "415  below_average  Switzerland                1  \n",
       "416  above_average      Finland                1  \n",
       "417        neutral        Italy                0  \n",
       "418  extraordinary      Germany                1  \n",
       "419        neutral  Switzerland                0  \n",
       "\n",
       "[420 rows x 12 columns]"
      ]
     },
     "execution_count": 157,
     "metadata": {},
     "output_type": "execute_result"
    }
   ],
   "source": [
    "df_raw = pd.read_csv('Volley_Ball_Score.csv')\n",
    "df_raw"
   ]
  },
  {
   "cell_type": "code",
   "execution_count": 158,
   "metadata": {},
   "outputs": [
    {
     "data": {
      "text/plain": [
       "(420, 12)"
      ]
     },
     "execution_count": 158,
     "metadata": {},
     "output_type": "execute_result"
    }
   ],
   "source": [
    "df_raw.shape"
   ]
  },
  {
   "cell_type": "markdown",
   "metadata": {},
   "source": [
    "### Checking and changing types"
   ]
  },
  {
   "cell_type": "code",
   "execution_count": 159,
   "metadata": {},
   "outputs": [
    {
     "data": {
      "text/plain": [
       "Unnamed: 0           int64\n",
       "Player_Score_0     float64\n",
       "Player_Score_1     float64\n",
       "Player_Score_2     float64\n",
       "Player_Score_3     float64\n",
       "Player_Score_4     float64\n",
       "Player_Score_5     float64\n",
       "Player_Score_6     float64\n",
       "Score              float64\n",
       "Performance         object\n",
       "Country             object\n",
       "Players_Injured      int64\n",
       "dtype: object"
      ]
     },
     "execution_count": 159,
     "metadata": {},
     "output_type": "execute_result"
    }
   ],
   "source": [
    "df_raw.dtypes"
   ]
  },
  {
   "cell_type": "code",
   "execution_count": 160,
   "metadata": {},
   "outputs": [
    {
     "data": {
      "text/plain": [
       "Unnamed: 0            int64\n",
       "Player_Score_0      float64\n",
       "Player_Score_1      float64\n",
       "Player_Score_2      float64\n",
       "Player_Score_3      float64\n",
       "Player_Score_4      float64\n",
       "Player_Score_5      float64\n",
       "Player_Score_6      float64\n",
       "Score               float64\n",
       "Performance        category\n",
       "Country            category\n",
       "Players_Injured       int64\n",
       "dtype: object"
      ]
     },
     "execution_count": 160,
     "metadata": {},
     "output_type": "execute_result"
    }
   ],
   "source": [
    "data_types_dict = {'Performance': 'category', 'Country': 'category'}\n",
    "df_raw = df_raw.astype(data_types_dict)\n",
    "df_raw.dtypes"
   ]
  },
  {
   "cell_type": "markdown",
   "metadata": {},
   "source": [
    "There are 9 Numerical features and 2 Categorical features"
   ]
  },
  {
   "cell_type": "code",
   "execution_count": 161,
   "metadata": {},
   "outputs": [
    {
     "data": {
      "text/html": [
       "<div>\n",
       "<style scoped>\n",
       "    .dataframe tbody tr th:only-of-type {\n",
       "        vertical-align: middle;\n",
       "    }\n",
       "\n",
       "    .dataframe tbody tr th {\n",
       "        vertical-align: top;\n",
       "    }\n",
       "\n",
       "    .dataframe thead th {\n",
       "        text-align: right;\n",
       "    }\n",
       "</style>\n",
       "<table border=\"1\" class=\"dataframe\">\n",
       "  <thead>\n",
       "    <tr style=\"text-align: right;\">\n",
       "      <th></th>\n",
       "      <th>Unnamed: 0</th>\n",
       "      <th>Player_Score_0</th>\n",
       "      <th>Player_Score_1</th>\n",
       "      <th>Player_Score_2</th>\n",
       "      <th>Player_Score_3</th>\n",
       "      <th>Player_Score_4</th>\n",
       "      <th>Player_Score_5</th>\n",
       "      <th>Player_Score_6</th>\n",
       "      <th>Score</th>\n",
       "      <th>Performance</th>\n",
       "      <th>Country</th>\n",
       "      <th>Players_Injured</th>\n",
       "    </tr>\n",
       "  </thead>\n",
       "  <tbody>\n",
       "    <tr>\n",
       "      <th>0</th>\n",
       "      <td>0</td>\n",
       "      <td>-0.2924</td>\n",
       "      <td>-0.3871</td>\n",
       "      <td>0.8317</td>\n",
       "      <td>0.2060</td>\n",
       "      <td>NaN</td>\n",
       "      <td>0.2060</td>\n",
       "      <td>-0.2424</td>\n",
       "      <td>82.9055</td>\n",
       "      <td>below_average</td>\n",
       "      <td>France</td>\n",
       "      <td>1</td>\n",
       "    </tr>\n",
       "    <tr>\n",
       "      <th>1</th>\n",
       "      <td>1</td>\n",
       "      <td>0.1389</td>\n",
       "      <td>0.3659</td>\n",
       "      <td>0.5547</td>\n",
       "      <td>NaN</td>\n",
       "      <td>0.6240</td>\n",
       "      <td>NaN</td>\n",
       "      <td>1.1762</td>\n",
       "      <td>27.3858</td>\n",
       "      <td>below_average</td>\n",
       "      <td>Finland</td>\n",
       "      <td>2</td>\n",
       "    </tr>\n",
       "    <tr>\n",
       "      <th>2</th>\n",
       "      <td>2</td>\n",
       "      <td>0.9248</td>\n",
       "      <td>-2.3541</td>\n",
       "      <td>0.8332</td>\n",
       "      <td>-0.0715</td>\n",
       "      <td>0.1905</td>\n",
       "      <td>-0.0715</td>\n",
       "      <td>-0.7963</td>\n",
       "      <td>78.9628</td>\n",
       "      <td>neutral</td>\n",
       "      <td>Germany</td>\n",
       "      <td>0</td>\n",
       "    </tr>\n",
       "    <tr>\n",
       "      <th>3</th>\n",
       "      <td>3</td>\n",
       "      <td>-0.4830</td>\n",
       "      <td>0.2304</td>\n",
       "      <td>-1.0753</td>\n",
       "      <td>-0.0744</td>\n",
       "      <td>-1.1175</td>\n",
       "      <td>-0.0744</td>\n",
       "      <td>-3.0012</td>\n",
       "      <td>80.2715</td>\n",
       "      <td>below_average</td>\n",
       "      <td>Finland</td>\n",
       "      <td>0</td>\n",
       "    </tr>\n",
       "    <tr>\n",
       "      <th>4</th>\n",
       "      <td>4</td>\n",
       "      <td>-0.6334</td>\n",
       "      <td>1.3354</td>\n",
       "      <td>2.0009</td>\n",
       "      <td>-0.3142</td>\n",
       "      <td>-0.7913</td>\n",
       "      <td>-0.3142</td>\n",
       "      <td>-0.0846</td>\n",
       "      <td>102.4383</td>\n",
       "      <td>average</td>\n",
       "      <td>Norway</td>\n",
       "      <td>1</td>\n",
       "    </tr>\n",
       "    <tr>\n",
       "      <th>...</th>\n",
       "      <td>...</td>\n",
       "      <td>...</td>\n",
       "      <td>...</td>\n",
       "      <td>...</td>\n",
       "      <td>...</td>\n",
       "      <td>...</td>\n",
       "      <td>...</td>\n",
       "      <td>...</td>\n",
       "      <td>...</td>\n",
       "      <td>...</td>\n",
       "      <td>...</td>\n",
       "      <td>...</td>\n",
       "    </tr>\n",
       "    <tr>\n",
       "      <th>415</th>\n",
       "      <td>415</td>\n",
       "      <td>-2.4103</td>\n",
       "      <td>-0.2195</td>\n",
       "      <td>1.8519</td>\n",
       "      <td>NaN</td>\n",
       "      <td>0.9716</td>\n",
       "      <td>NaN</td>\n",
       "      <td>-0.2128</td>\n",
       "      <td>114.0887</td>\n",
       "      <td>below_average</td>\n",
       "      <td>Switzerland</td>\n",
       "      <td>1</td>\n",
       "    </tr>\n",
       "    <tr>\n",
       "      <th>416</th>\n",
       "      <td>416</td>\n",
       "      <td>0.1458</td>\n",
       "      <td>-0.0600</td>\n",
       "      <td>-0.1449</td>\n",
       "      <td>NaN</td>\n",
       "      <td>NaN</td>\n",
       "      <td>NaN</td>\n",
       "      <td>3.0714</td>\n",
       "      <td>21.9961</td>\n",
       "      <td>above_average</td>\n",
       "      <td>Finland</td>\n",
       "      <td>1</td>\n",
       "    </tr>\n",
       "    <tr>\n",
       "      <th>417</th>\n",
       "      <td>417</td>\n",
       "      <td>-0.4520</td>\n",
       "      <td>0.0608</td>\n",
       "      <td>-0.9824</td>\n",
       "      <td>0.9211</td>\n",
       "      <td>1.5176</td>\n",
       "      <td>0.9211</td>\n",
       "      <td>-0.1139</td>\n",
       "      <td>50.7298</td>\n",
       "      <td>neutral</td>\n",
       "      <td>Italy</td>\n",
       "      <td>0</td>\n",
       "    </tr>\n",
       "    <tr>\n",
       "      <th>418</th>\n",
       "      <td>418</td>\n",
       "      <td>0.3949</td>\n",
       "      <td>-0.0913</td>\n",
       "      <td>0.0339</td>\n",
       "      <td>NaN</td>\n",
       "      <td>0.7586</td>\n",
       "      <td>NaN</td>\n",
       "      <td>0.0767</td>\n",
       "      <td>11.3839</td>\n",
       "      <td>extraordinary</td>\n",
       "      <td>Germany</td>\n",
       "      <td>1</td>\n",
       "    </tr>\n",
       "    <tr>\n",
       "      <th>419</th>\n",
       "      <td>419</td>\n",
       "      <td>1.7623</td>\n",
       "      <td>0.8737</td>\n",
       "      <td>-0.8829</td>\n",
       "      <td>NaN</td>\n",
       "      <td>-0.5120</td>\n",
       "      <td>NaN</td>\n",
       "      <td>0.3555</td>\n",
       "      <td>19.0997</td>\n",
       "      <td>neutral</td>\n",
       "      <td>Switzerland</td>\n",
       "      <td>0</td>\n",
       "    </tr>\n",
       "  </tbody>\n",
       "</table>\n",
       "<p>420 rows × 12 columns</p>\n",
       "</div>"
      ],
      "text/plain": [
       "     Unnamed: 0  Player_Score_0  Player_Score_1  Player_Score_2  \\\n",
       "0             0         -0.2924         -0.3871          0.8317   \n",
       "1             1          0.1389          0.3659          0.5547   \n",
       "2             2          0.9248         -2.3541          0.8332   \n",
       "3             3         -0.4830          0.2304         -1.0753   \n",
       "4             4         -0.6334          1.3354          2.0009   \n",
       "..          ...             ...             ...             ...   \n",
       "415         415         -2.4103         -0.2195          1.8519   \n",
       "416         416          0.1458         -0.0600         -0.1449   \n",
       "417         417         -0.4520          0.0608         -0.9824   \n",
       "418         418          0.3949         -0.0913          0.0339   \n",
       "419         419          1.7623          0.8737         -0.8829   \n",
       "\n",
       "     Player_Score_3  Player_Score_4  Player_Score_5  Player_Score_6     Score  \\\n",
       "0            0.2060             NaN          0.2060         -0.2424   82.9055   \n",
       "1               NaN          0.6240             NaN          1.1762   27.3858   \n",
       "2           -0.0715          0.1905         -0.0715         -0.7963   78.9628   \n",
       "3           -0.0744         -1.1175         -0.0744         -3.0012   80.2715   \n",
       "4           -0.3142         -0.7913         -0.3142         -0.0846  102.4383   \n",
       "..              ...             ...             ...             ...       ...   \n",
       "415             NaN          0.9716             NaN         -0.2128  114.0887   \n",
       "416             NaN             NaN             NaN          3.0714   21.9961   \n",
       "417          0.9211          1.5176          0.9211         -0.1139   50.7298   \n",
       "418             NaN          0.7586             NaN          0.0767   11.3839   \n",
       "419             NaN         -0.5120             NaN          0.3555   19.0997   \n",
       "\n",
       "       Performance      Country  Players_Injured  \n",
       "0    below_average       France                1  \n",
       "1    below_average      Finland                2  \n",
       "2          neutral      Germany                0  \n",
       "3    below_average      Finland                0  \n",
       "4          average       Norway                1  \n",
       "..             ...          ...              ...  \n",
       "415  below_average  Switzerland                1  \n",
       "416  above_average      Finland                1  \n",
       "417        neutral        Italy                0  \n",
       "418  extraordinary      Germany                1  \n",
       "419        neutral  Switzerland                0  \n",
       "\n",
       "[420 rows x 12 columns]"
      ]
     },
     "execution_count": 161,
     "metadata": {},
     "output_type": "execute_result"
    }
   ],
   "source": [
    "df_raw"
   ]
  },
  {
   "cell_type": "markdown",
   "metadata": {},
   "source": [
    "### Checking duplicates"
   ]
  },
  {
   "cell_type": "code",
   "execution_count": 162,
   "metadata": {},
   "outputs": [
    {
     "data": {
      "text/plain": [
       "0"
      ]
     },
     "execution_count": 162,
     "metadata": {},
     "output_type": "execute_result"
    }
   ],
   "source": [
    "df_raw.duplicated(keep=False).sum()"
   ]
  },
  {
   "cell_type": "markdown",
   "metadata": {},
   "source": [
    "### Checking nulls"
   ]
  },
  {
   "cell_type": "code",
   "execution_count": 163,
   "metadata": {},
   "outputs": [
    {
     "data": {
      "text/plain": [
       "Unnamed: 0         0.000000\n",
       "Player_Score_0     0.000000\n",
       "Player_Score_1     0.000000\n",
       "Player_Score_2     0.000000\n",
       "Player_Score_3     0.280952\n",
       "Player_Score_4     0.185714\n",
       "Player_Score_5     0.350000\n",
       "Player_Score_6     0.000000\n",
       "Score              0.000000\n",
       "Performance        0.000000\n",
       "Country            0.000000\n",
       "Players_Injured    0.000000\n",
       "dtype: float64"
      ]
     },
     "execution_count": 163,
     "metadata": {},
     "output_type": "execute_result"
    }
   ],
   "source": [
    "df_raw.isnull().mean()"
   ]
  },
  {
   "cell_type": "code",
   "execution_count": 164,
   "metadata": {},
   "outputs": [
    {
     "data": {
      "text/plain": [
       "343"
      ]
     },
     "execution_count": 164,
     "metadata": {},
     "output_type": "execute_result"
    }
   ],
   "source": [
    "df_raw.isnull().sum().sum()\n"
   ]
  },
  {
   "cell_type": "markdown",
   "metadata": {},
   "source": [
    "3 columns have have missing values but none of them have more than 70% of rows with missing data. I will handle the missing values instead of elimination. "
   ]
  },
  {
   "cell_type": "code",
   "execution_count": 165,
   "metadata": {},
   "outputs": [
    {
     "data": {
      "image/png": "[encoded data removed]",
      "text/plain": [
       "<Figure size 720x360 with 3 Axes>"
      ]
     },
     "metadata": {
      "needs_background": "light"
     },
     "output_type": "display_data"
    }
   ],
   "source": [
    "missingno.bar(df_raw.iloc[:,:],color=\"green\", figsize=(10,5), fontsize=12);\n"
   ]
  },
  {
   "cell_type": "code",
   "execution_count": 166,
   "metadata": {},
   "outputs": [
    {
     "data": {
      "image/png": "[encoded data removed]",
      "text/plain": [
       "<Figure size 720x360 with 1 Axes>"
      ]
     },
     "metadata": {
      "needs_background": "light"
     },
     "output_type": "display_data"
    }
   ],
   "source": [
    "missingno.matrix(df_raw.iloc[:,:],figsize=(10,5), fontsize=12,sparkline=False);\n"
   ]
  },
  {
   "cell_type": "code",
   "execution_count": 167,
   "metadata": {},
   "outputs": [
    {
     "data": {
      "text/plain": [
       "array([[<AxesSubplot:title={'center':'Unnamed: 0'}>,\n",
       "        <AxesSubplot:title={'center':'Player_Score_0'}>,\n",
       "        <AxesSubplot:title={'center':'Player_Score_1'}>],\n",
       "       [<AxesSubplot:title={'center':'Player_Score_2'}>,\n",
       "        <AxesSubplot:title={'center':'Player_Score_3'}>,\n",
       "        <AxesSubplot:title={'center':'Player_Score_4'}>],\n",
       "       [<AxesSubplot:title={'center':'Player_Score_5'}>,\n",
       "        <AxesSubplot:title={'center':'Player_Score_6'}>,\n",
       "        <AxesSubplot:title={'center':'Score'}>],\n",
       "       [<AxesSubplot:title={'center':'Players_Injured'}>, <AxesSubplot:>,\n",
       "        <AxesSubplot:>]], dtype=object)"
      ]
     },
     "execution_count": 167,
     "metadata": {},
     "output_type": "execute_result"
    },
    {
     "data": {
      "image/png": "[encoded data removed]",
      "text/plain": [
       "<Figure size 432x288 with 12 Axes>"
      ]
     },
     "metadata": {
      "needs_background": "light"
     },
     "output_type": "display_data"
    }
   ],
   "source": [
    "df_raw.iloc[:,:].hist()\n"
   ]
  },
  {
   "cell_type": "code",
   "execution_count": 168,
   "metadata": {},
   "outputs": [
    {
     "data": {
      "image/png": "[encoded data removed]",
      "text/plain": [
       "<Figure size 720x360 with 2 Axes>"
      ]
     },
     "metadata": {
      "needs_background": "light"
     },
     "output_type": "display_data"
    }
   ],
   "source": [
    "missingno.heatmap(df_raw.iloc[:,:8], figsize=(10,5), fontsize=12);"
   ]
  },
  {
   "cell_type": "markdown",
   "metadata": {},
   "source": [
    "Making a deep copy of the dataset and using different duplicate filling methods."
   ]
  },
  {
   "cell_type": "markdown",
   "metadata": {},
   "source": [
    "## Missing values with kNN"
   ]
  },
  {
   "cell_type": "code",
   "execution_count": 169,
   "metadata": {},
   "outputs": [],
   "source": [
    "df = df_raw.copy(deep=True)\n",
    "df.drop(columns=['Country', 'Performance','Unnamed: 0'], inplace=True)\n",
    "\n",
    "\n",
    "from sklearn.impute import KNNImputer\n",
    "knn_imp = KNNImputer(n_neighbors=3)\n",
    "# fit and transform the imputer on the dataset \n",
    "df_knn= pd.DataFrame(knn_imp.fit_transform(df), columns=df.columns)"
   ]
  },
  {
   "cell_type": "code",
   "execution_count": 170,
   "metadata": {},
   "outputs": [
    {
     "data": {
      "text/plain": [
       "Player_Score_0     0\n",
       "Player_Score_1     0\n",
       "Player_Score_2     0\n",
       "Player_Score_3     0\n",
       "Player_Score_4     0\n",
       "Player_Score_5     0\n",
       "Player_Score_6     0\n",
       "Score              0\n",
       "Players_Injured    0\n",
       "dtype: int64"
      ]
     },
     "execution_count": 170,
     "metadata": {},
     "output_type": "execute_result"
    }
   ],
   "source": [
    "df_knn.isnull().sum()"
   ]
  },
  {
   "cell_type": "markdown",
   "metadata": {},
   "source": [
    "### Plots of before and after"
   ]
  },
  {
   "cell_type": "code",
   "execution_count": 171,
   "metadata": {},
   "outputs": [
    {
     "data": {
      "text/plain": [
       "<AxesSubplot:ylabel='Density'>"
      ]
     },
     "execution_count": 171,
     "metadata": {},
     "output_type": "execute_result"
    },
    {
     "data": {
      "image/png": "[encoded data removed]",
      "text/plain": [
       "<Figure size 432x288 with 1 Axes>"
      ]
     },
     "metadata": {
      "needs_background": "light"
     },
     "output_type": "display_data"
    }
   ],
   "source": [
    "df['Player_Score_3'].plot.kde(color='r')\n",
    "df_knn[\"Player_Score_3\"].plot.kde(color='y')"
   ]
  },
  {
   "cell_type": "code",
   "execution_count": 172,
   "metadata": {},
   "outputs": [
    {
     "data": {
      "text/plain": [
       "<AxesSubplot:ylabel='Density'>"
      ]
     },
     "execution_count": 172,
     "metadata": {},
     "output_type": "execute_result"
    },
    {
     "data": {
      "image/png": "[encoded data removed]",
      "text/plain": [
       "<Figure size 432x288 with 1 Axes>"
      ]
     },
     "metadata": {
      "needs_background": "light"
     },
     "output_type": "display_data"
    }
   ],
   "source": [
    "df['Player_Score_4'].plot.kde(color='r')\n",
    "df_knn[\"Player_Score_4\"].plot.kde(color='y')"
   ]
  },
  {
   "cell_type": "code",
   "execution_count": 173,
   "metadata": {},
   "outputs": [
    {
     "data": {
      "text/plain": [
       "<AxesSubplot:ylabel='Density'>"
      ]
     },
     "execution_count": 173,
     "metadata": {},
     "output_type": "execute_result"
    },
    {
     "data": {
      "image/png": "[encoded data removed]",
      "text/plain": [
       "<Figure size 432x288 with 1 Axes>"
      ]
     },
     "metadata": {
      "needs_background": "light"
     },
     "output_type": "display_data"
    }
   ],
   "source": [
    "df['Player_Score_5'].plot.kde(color='r')\n",
    "df_knn[\"Player_Score_5\"].plot.kde(color='y')"
   ]
  },
  {
   "cell_type": "code",
   "execution_count": 174,
   "metadata": {},
   "outputs": [
    {
     "data": {
      "text/plain": [
       "0.06357975816122968"
      ]
     },
     "execution_count": 174,
     "metadata": {},
     "output_type": "execute_result"
    },
    {
     "data": {
      "image/png": "[encoded data removed]",
      "text/plain": [
       "<Figure size 432x288 with 1 Axes>"
      ]
     },
     "metadata": {
      "needs_background": "light"
     },
     "output_type": "display_data"
    }
   ],
   "source": [
    "#calculating the jensenshannon distance between the probability distributions before and after imputation\n",
    "from scipy.spatial import distance\n",
    "\n",
    "counts_imputed,nins_imputed,values_imputed = plt.hist(df_knn[\"Player_Score_5\"])\n",
    "counts_imputed_probabilities = counts_imputed / counts_imputed.sum()\n",
    "\n",
    "# probability distribution before imputation\n",
    "counts,nins,values = plt.hist(df[\"Player_Score_5\"])\n",
    "counts_probabilities = counts / counts.sum()\n",
    "\n",
    "# pdf distance calculation\n",
    "distance.jensenshannon(counts_imputed_probabilities,counts_probabilities)\n"
   ]
  },
  {
   "cell_type": "markdown",
   "metadata": {},
   "source": [
    "I won't use this because I can't predict a value between non correlated values such as different teams"
   ]
  },
  {
   "cell_type": "markdown",
   "metadata": {},
   "source": [
    "## Duplicates with Regression"
   ]
  },
  {
   "cell_type": "code",
   "execution_count": 175,
   "metadata": {},
   "outputs": [
    {
     "data": {
      "text/plain": [
       "<AxesSubplot:>"
      ]
     },
     "execution_count": 175,
     "metadata": {},
     "output_type": "execute_result"
    },
    {
     "data": {
      "image/png": "[encoded data removed]",
      "text/plain": [
       "<Figure size 432x288 with 2 Axes>"
      ]
     },
     "metadata": {
      "needs_background": "light"
     },
     "output_type": "display_data"
    }
   ],
   "source": [
    "sns.heatmap(df_raw.corr())"
   ]
  },
  {
   "cell_type": "code",
   "execution_count": 176,
   "metadata": {},
   "outputs": [
    {
     "name": "stderr",
     "output_type": "stream",
     "text": [
      "C:\\Users\\Lenovo\\AppData\\Local\\Temp\\ipykernel_24332\\2987897800.py:15: SettingWithCopyWarning: \n",
      "A value is trying to be set on a copy of a slice from a DataFrame\n",
      "\n",
      "See the caveats in the documentation: https://pandas.pydata.org/pandas-docs/stable/user_guide/indexing.html#returning-a-view-versus-a-copy\n",
      "  train_data.drop(\"Player_Score_5\",axis=1,inplace=True)\n",
      "C:\\Users\\Lenovo\\AppData\\Local\\Temp\\ipykernel_24332\\2987897800.py:20: SettingWithCopyWarning: \n",
      "A value is trying to be set on a copy of a slice from a DataFrame\n",
      "\n",
      "See the caveats in the documentation: https://pandas.pydata.org/pandas-docs/stable/user_guide/indexing.html#returning-a-view-versus-a-copy\n",
      "  test_data.drop(\"Player_Score_5\",axis=1,inplace=True)\n",
      "C:\\Users\\Lenovo\\AppData\\Local\\Temp\\ipykernel_24332\\2987897800.py:24: SettingWithCopyWarning: \n",
      "A value is trying to be set on a copy of a slice from a DataFrame.\n",
      "Try using .loc[row_indexer,col_indexer] = value instead\n",
      "\n",
      "See the caveats in the documentation: https://pandas.pydata.org/pandas-docs/stable/user_guide/indexing.html#returning-a-view-versus-a-copy\n",
      "  test_data['Player_Score_5']= pred\n",
      "C:\\Users\\Lenovo\\AppData\\Local\\Temp\\ipykernel_24332\\2987897800.py:26: FutureWarning: The series.append method is deprecated and will be removed from pandas in a future version. Use pandas.concat instead.\n",
      "  ps_5_lr = ps_5_before_imp.append(test_data['Player_Score_5'])\n"
     ]
    }
   ],
   "source": [
    "#Choosing the columns without nan values to impute Player_Score_5.\n",
    "df_regr5 = df_raw[['Player_Score_1','Player_Score_2','Player_Score_5']]\n",
    "\n",
    "\n",
    "from sklearn.linear_model import LinearRegression\n",
    "lr_model = LinearRegression()\n",
    "\n",
    "\n",
    "train_data = df_regr5[df_regr5['Player_Score_5'].isnull()==False]\n",
    "test_data = df_regr5[df_regr5['Player_Score_5'].isnull()==True]\n",
    "\n",
    "ps_5_before_imp = train_data['Player_Score_5']\n",
    "\n",
    "y = train_data['Player_Score_5'] #target is \"Player_Score_5\"\n",
    "train_data.drop(\"Player_Score_5\",axis=1,inplace=True) \n",
    "#features are all other features except \"Player_Score_5\"\n",
    "\n",
    "lr_model.fit(train_data,y)\n",
    "\n",
    "test_data.drop(\"Player_Score_5\",axis=1,inplace=True)\n",
    "\n",
    "# infer the missing values with the learned model\n",
    "pred = lr_model.predict(test_data)\n",
    "test_data['Player_Score_5']= pred\n",
    "\n",
    "ps_5_lr = ps_5_before_imp.append(test_data['Player_Score_5'])"
   ]
  },
  {
   "cell_type": "code",
   "execution_count": 177,
   "metadata": {},
   "outputs": [
    {
     "name": "stderr",
     "output_type": "stream",
     "text": [
      "C:\\Users\\Lenovo\\AppData\\Local\\Temp\\ipykernel_24332\\1227186786.py:15: SettingWithCopyWarning: \n",
      "A value is trying to be set on a copy of a slice from a DataFrame\n",
      "\n",
      "See the caveats in the documentation: https://pandas.pydata.org/pandas-docs/stable/user_guide/indexing.html#returning-a-view-versus-a-copy\n",
      "  train_data.drop(\"Player_Score_4\",axis=1,inplace=True)\n",
      "C:\\Users\\Lenovo\\AppData\\Local\\Temp\\ipykernel_24332\\1227186786.py:20: SettingWithCopyWarning: \n",
      "A value is trying to be set on a copy of a slice from a DataFrame\n",
      "\n",
      "See the caveats in the documentation: https://pandas.pydata.org/pandas-docs/stable/user_guide/indexing.html#returning-a-view-versus-a-copy\n",
      "  test_data.drop(\"Player_Score_4\",axis=1,inplace=True)\n",
      "C:\\Users\\Lenovo\\AppData\\Local\\Temp\\ipykernel_24332\\1227186786.py:24: SettingWithCopyWarning: \n",
      "A value is trying to be set on a copy of a slice from a DataFrame.\n",
      "Try using .loc[row_indexer,col_indexer] = value instead\n",
      "\n",
      "See the caveats in the documentation: https://pandas.pydata.org/pandas-docs/stable/user_guide/indexing.html#returning-a-view-versus-a-copy\n",
      "  test_data['Player_Score_4']= pred\n",
      "C:\\Users\\Lenovo\\AppData\\Local\\Temp\\ipykernel_24332\\1227186786.py:26: FutureWarning: The series.append method is deprecated and will be removed from pandas in a future version. Use pandas.concat instead.\n",
      "  ps_4_lr = ps_4_before_imp.append(test_data['Player_Score_4'])\n"
     ]
    }
   ],
   "source": [
    "#Choosing the columns without nan values to impute Player_Score_4.\n",
    "df_regr4 = df_raw[['Player_Score_1','Player_Score_2','Player_Score_4']]\n",
    "\n",
    "\n",
    "from sklearn.linear_model import LinearRegression\n",
    "lr_model = LinearRegression()\n",
    "\n",
    "\n",
    "train_data = df_regr4[df_regr4['Player_Score_4'].isnull()==False]\n",
    "test_data = df_regr4[df_regr4['Player_Score_4'].isnull()==True]\n",
    "\n",
    "ps_4_before_imp = train_data['Player_Score_4']\n",
    "\n",
    "y = train_data['Player_Score_4'] #target is \"Player_Score_4\"\n",
    "train_data.drop(\"Player_Score_4\",axis=1,inplace=True) \n",
    "#features are all other features except \"Player_Score_4\"\n",
    "\n",
    "lr_model.fit(train_data,y)\n",
    "\n",
    "test_data.drop(\"Player_Score_4\",axis=1,inplace=True)\n",
    "\n",
    "# infer the missing values with the learned model\n",
    "pred = lr_model.predict(test_data)\n",
    "test_data['Player_Score_4']= pred\n",
    "\n",
    "ps_4_lr = ps_4_before_imp.append(test_data['Player_Score_4'])\n"
   ]
  },
  {
   "cell_type": "code",
   "execution_count": 178,
   "metadata": {},
   "outputs": [
    {
     "name": "stderr",
     "output_type": "stream",
     "text": [
      "C:\\Users\\Lenovo\\AppData\\Local\\Temp\\ipykernel_24332\\368044319.py:15: SettingWithCopyWarning: \n",
      "A value is trying to be set on a copy of a slice from a DataFrame\n",
      "\n",
      "See the caveats in the documentation: https://pandas.pydata.org/pandas-docs/stable/user_guide/indexing.html#returning-a-view-versus-a-copy\n",
      "  train_data.drop(\"Player_Score_3\",axis=1,inplace=True)\n",
      "C:\\Users\\Lenovo\\AppData\\Local\\Temp\\ipykernel_24332\\368044319.py:20: SettingWithCopyWarning: \n",
      "A value is trying to be set on a copy of a slice from a DataFrame\n",
      "\n",
      "See the caveats in the documentation: https://pandas.pydata.org/pandas-docs/stable/user_guide/indexing.html#returning-a-view-versus-a-copy\n",
      "  test_data.drop(\"Player_Score_3\",axis=1,inplace=True)\n",
      "C:\\Users\\Lenovo\\AppData\\Local\\Temp\\ipykernel_24332\\368044319.py:24: SettingWithCopyWarning: \n",
      "A value is trying to be set on a copy of a slice from a DataFrame.\n",
      "Try using .loc[row_indexer,col_indexer] = value instead\n",
      "\n",
      "See the caveats in the documentation: https://pandas.pydata.org/pandas-docs/stable/user_guide/indexing.html#returning-a-view-versus-a-copy\n",
      "  test_data['Player_Score_3']= pred\n",
      "C:\\Users\\Lenovo\\AppData\\Local\\Temp\\ipykernel_24332\\368044319.py:26: FutureWarning: The series.append method is deprecated and will be removed from pandas in a future version. Use pandas.concat instead.\n",
      "  ps_3_lr = ps_3_before_imp.append(test_data['Player_Score_3'])\n"
     ]
    }
   ],
   "source": [
    "#Choosing the columns without nan values to impute Player_Score_3.\n",
    "df_regr3 = df_raw[['Player_Score_1','Player_Score_2','Player_Score_3']]\n",
    "\n",
    "\n",
    "from sklearn.linear_model import LinearRegression\n",
    "lr_model = LinearRegression()\n",
    "\n",
    "\n",
    "train_data = df_regr3[df_regr3['Player_Score_3'].isnull()==False]\n",
    "test_data = df_regr3[df_regr3['Player_Score_3'].isnull()==True]\n",
    "\n",
    "ps_3_before_imp = train_data['Player_Score_3']\n",
    "\n",
    "y = train_data['Player_Score_3'] #target is \"Player_Score_3\"\n",
    "train_data.drop(\"Player_Score_3\",axis=1,inplace=True) \n",
    "#features are all other features except \"Player_Score_3\"\n",
    "\n",
    "lr_model.fit(train_data,y)\n",
    "\n",
    "test_data.drop(\"Player_Score_3\",axis=1,inplace=True)\n",
    "\n",
    "# infer the missing values with the learned model\n",
    "pred = lr_model.predict(test_data)\n",
    "test_data['Player_Score_3']= pred\n",
    "\n",
    "ps_3_lr = ps_3_before_imp.append(test_data['Player_Score_3'])\n"
   ]
  },
  {
   "cell_type": "code",
   "execution_count": 179,
   "metadata": {},
   "outputs": [
    {
     "data": {
      "text/plain": [
       "<AxesSubplot:ylabel='Density'>"
      ]
     },
     "execution_count": 179,
     "metadata": {},
     "output_type": "execute_result"
    },
    {
     "data": {
      "image/png": "[encoded data removed]",
      "text/plain": [
       "<Figure size 432x288 with 1 Axes>"
      ]
     },
     "metadata": {
      "needs_background": "light"
     },
     "output_type": "display_data"
    }
   ],
   "source": [
    "#visualising the distribution before and after imputation\n",
    "\n",
    "#plotting the pdf after imputation\n",
    "df_regr5['Player_Score_5'].plot.kde(color='r')\n",
    "\n",
    "#plotting the pdf before imputation\n",
    "ps_5_lr.plot.kde(color='y')"
   ]
  },
  {
   "cell_type": "code",
   "execution_count": 183,
   "metadata": {},
   "outputs": [
    {
     "data": {
      "text/plain": [
       "<AxesSubplot:ylabel='Density'>"
      ]
     },
     "execution_count": 183,
     "metadata": {},
     "output_type": "execute_result"
    },
    {
     "data": {
      "image/png": "[encoded data removed]",
      "text/plain": [
       "<Figure size 432x288 with 1 Axes>"
      ]
     },
     "metadata": {
      "needs_background": "light"
     },
     "output_type": "display_data"
    }
   ],
   "source": [
    "#visualising the distribution before and after imputation\n",
    "\n",
    "#plotting the pdf after imputation\n",
    "df_regr4['Player_Score_4'].plot.kde(color='r')\n",
    "\n",
    "#plotting the pdf before imputation\n",
    "ps_4_lr.plot.kde(color='y')"
   ]
  },
  {
   "cell_type": "code",
   "execution_count": 182,
   "metadata": {},
   "outputs": [
    {
     "data": {
      "text/plain": [
       "<AxesSubplot:ylabel='Density'>"
      ]
     },
     "execution_count": 182,
     "metadata": {},
     "output_type": "execute_result"
    },
    {
     "data": {
      "image/png": "[encoded data removed]",
      "text/plain": [
       "<Figure size 432x288 with 1 Axes>"
      ]
     },
     "metadata": {
      "needs_background": "light"
     },
     "output_type": "display_data"
    }
   ],
   "source": [
    "#visualising the distribution before and after imputation\n",
    "\n",
    "#plotting the pdf after imputation\n",
    "df_regr3['Player_Score_3'].plot.kde(color='r')\n",
    "\n",
    "#plotting the pdf before imputation\n",
    "ps_3_lr.plot.kde(color='y')"
   ]
  },
  {
   "cell_type": "markdown",
   "metadata": {},
   "source": [
    "## 2. Linear Regression"
   ]
  },
  {
   "cell_type": "markdown",
   "metadata": {},
   "source": [
    "### (a) Verify the features values distribution of the numerical variables?\n"
   ]
  },
  {
   "cell_type": "code",
   "execution_count": 181,
   "metadata": {},
   "outputs": [
    {
     "data": {
      "text/plain": [
       "array([[<AxesSubplot:title={'center':'Player_Score_0'}>,\n",
       "        <AxesSubplot:title={'center':'Player_Score_1'}>,\n",
       "        <AxesSubplot:title={'center':'Player_Score_2'}>],\n",
       "       [<AxesSubplot:title={'center':'Player_Score_3'}>,\n",
       "        <AxesSubplot:title={'center':'Player_Score_4'}>,\n",
       "        <AxesSubplot:title={'center':'Player_Score_5'}>],\n",
       "       [<AxesSubplot:title={'center':'Player_Score_6'}>,\n",
       "        <AxesSubplot:title={'center':'Score'}>,\n",
       "        <AxesSubplot:title={'center':'Players_Injured'}>]], dtype=object)"
      ]
     },
     "execution_count": 181,
     "metadata": {},
     "output_type": "execute_result"
    },
    {
     "data": {
      "text/plain": [
       "<Figure size 720x720 with 0 Axes>"
      ]
     },
     "metadata": {},
     "output_type": "display_data"
    },
    {
     "data": {
      "image/png": "[encoded data removed]",
      "text/plain": [
       "<Figure size 432x288 with 9 Axes>"
      ]
     },
     "metadata": {
      "needs_background": "light"
     },
     "output_type": "display_data"
    }
   ],
   "source": [
    "plt.figure(figsize=(10,10))\n",
    "df.iloc[:,:].hist()\n"
   ]
  },
  {
   "cell_type": "markdown",
   "metadata": {},
   "source": [
    "### (b) Is features transformation necessary for the numerical variables? Let’s take into account that we are preparing the dataset for a Linear Regression task, with the goal of building a \"Score\" predictive model. If transformation is necessary, after justifying your choices, do proceed as described."
   ]
  },
  {
   "cell_type": "markdown",
   "metadata": {},
   "source": [
    "### (c) Verify the presence of outliers and eventually handle them. Justify your choices."
   ]
  },
  {
   "cell_type": "markdown",
   "metadata": {},
   "source": [
    "### (d) Is encoding necessary for the categorical variables? If yes, which kind of encoding? Specify your choices, justify them and perform categorical data encoding, if necessary."
   ]
  },
  {
   "cell_type": "markdown",
   "metadata": {},
   "source": [
    "### (e) Increase the dimensionality of the dataset introducing Polynomial Features – degree = 3 (continuous variables)"
   ]
  },
  {
   "cell_type": "markdown",
   "metadata": {},
   "source": [
    "### (f) Eventually include any other transformation which might be necessary/appropriate and justify your choices."
   ]
  },
  {
   "cell_type": "markdown",
   "metadata": {},
   "source": [
    "## 3. Features Selection"
   ]
  },
  {
   "cell_type": "markdown",
   "metadata": {},
   "source": [
    "### (a) Perform One Way ANOVA and test the relationship between variable Country and Score. Eventually, consider the possibility to remove the feature. Justify your choice."
   ]
  },
  {
   "cell_type": "markdown",
   "metadata": {},
   "source": [
    "### (b) Perform Features Selection and visualize the features which have been selected. Select one appropriate methodology for features selection and justify your choice."
   ]
  },
  {
   "cell_type": "markdown",
   "metadata": {},
   "source": [
    "## 4. Linear Regression"
   ]
  },
  {
   "cell_type": "markdown",
   "metadata": {},
   "source": [
    "### (a) Train a Multiple Linear Regression model, using the Sklearn implementation of Linear Regression to find the best 𝜽 vector. Use all the transformed features, excluding the derived polynomial features. Evaluate the model with the learned 𝜽 on the test set.\n"
   ]
  },
  {
   "cell_type": "markdown",
   "metadata": {},
   "source": [
    "### (b) Use all the transformed features, excluding the derived polynomial features, to identify the best values of 𝜽 by means of a Batch Gradient Descent procedure. Identify the best values of 𝜼 (starting with an initial value of 𝜼 = 0.1 ). Evaluate the model with the trained 𝜽 on the test set. Plot the train and the test error for increasing number of iterations of the Gradient Descent procedure (with the best value of 𝜼). Provide a comment of the plot.\n"
   ]
  },
  {
   "cell_type": "markdown",
   "metadata": {},
   "source": [
    "### (c) Use the complete set of features, including the derived polynomial features. Train a Multiple Linear Regression model, using the Sklearn implementation of Linear Regression to find the best 𝜽 vector. Evaluate the model with the learned 𝜽 on the test set. Plot the train and the test error for increasing the size of the train-set (with the best value of 𝜼). Provide a comment of the plot.\n"
   ]
  },
  {
   "cell_type": "markdown",
   "metadata": {},
   "source": [
    "### (d) Use the complete set of features, including the derived polynomial features. Train a Ridge Regression model identifying the best value of the learning rate 𝜶 that allows the model to achieve the best generalization performances. Evaluate the model.\n"
   ]
  },
  {
   "cell_type": "markdown",
   "metadata": {},
   "source": [
    "### (e) Use the complete set of features, including the derived polynomial features. Train a Linear Regression model with Lasso regularization. Comment on the importance of each feature given the related trained parameter value of the trained model. Also, verify the number of features selected (related coefficient 𝜽 different from zero) with different values of 𝛼.\n"
   ]
  },
  {
   "cell_type": "markdown",
   "metadata": {},
   "source": [
    "### (f) Use the subset of features selected in the Feature Selection task (question 3b). Train a Multiple Linear Regression model using the Sklearn implementation of Linear Regression to find the best 𝜽 vector. Evaluate the model.\n"
   ]
  },
  {
   "cell_type": "markdown",
   "metadata": {},
   "source": [
    "### (g) Create a table with the evaluation results obtained from all the models above on both the train and test sets."
   ]
  },
  {
   "cell_type": "markdown",
   "metadata": {},
   "source": [
    "### (h) Compare and discuss the results obtained above."
   ]
  }
 ],
 "metadata": {
  "kernelspec": {
   "display_name": "Python 3.10.4 64-bit",
   "language": "python",
   "name": "python3"
  },
  "language_info": {
   "codemirror_mode": {
    "name": "ipython",
    "version": 3
   },
   "file_extension": ".py",
   "mimetype": "text/x-python",
   "name": "python",
   "nbconvert_exporter": "python",
   "pygments_lexer": "ipython3",
   "version": "3.10.4"
  },
  "orig_nbformat": 4,
  "vscode": {
   "interpreter": {
    "hash": "8c3d4d9970fc5c09c50d9318a9c7fbf4d0159e4b28833276f5678ee22bded273"
   }
  }
 },
 "nbformat": 4,
 "nbformat_minor": 2
}
