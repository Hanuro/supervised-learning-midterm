{
 "cells": [
  {
   "cell_type": "markdown",
   "metadata": {},
   "source": [
    "# Imports"
   ]
  },
  {
   "cell_type": "code",
   "execution_count": 1,
   "metadata": {},
   "outputs": [],
   "source": [
    "import pandas as pd\n",
    "import numpy as np\n",
    "import missingno\n",
    "import matplotlib.pyplot as plt\n",
    "from sklearn.linear_model import LinearRegression\n",
    "import seaborn as sns\n"
   ]
  },
  {
   "cell_type": "markdown",
   "metadata": {},
   "source": [
    "# Question 1:"
   ]
  },
  {
   "cell_type": "markdown",
   "metadata": {},
   "source": [
    "### Reading the dataset"
   ]
  },
  {
   "cell_type": "code",
   "execution_count": 2,
   "metadata": {},
   "outputs": [
    {
     "data": {
      "text/html": [
       "<div>\n",
       "<style scoped>\n",
       "    .dataframe tbody tr th:only-of-type {\n",
       "        vertical-align: middle;\n",
       "    }\n",
       "\n",
       "    .dataframe tbody tr th {\n",
       "        vertical-align: top;\n",
       "    }\n",
       "\n",
       "    .dataframe thead th {\n",
       "        text-align: right;\n",
       "    }\n",
       "</style>\n",
       "<table border=\"1\" class=\"dataframe\">\n",
       "  <thead>\n",
       "    <tr style=\"text-align: right;\">\n",
       "      <th></th>\n",
       "      <th>Unnamed: 0</th>\n",
       "      <th>Player_Score_0</th>\n",
       "      <th>Player_Score_1</th>\n",
       "      <th>Player_Score_2</th>\n",
       "      <th>Player_Score_3</th>\n",
       "      <th>Player_Score_4</th>\n",
       "      <th>Player_Score_5</th>\n",
       "      <th>Player_Score_6</th>\n",
       "      <th>Score</th>\n",
       "      <th>Performance</th>\n",
       "      <th>Country</th>\n",
       "      <th>Players_Injured</th>\n",
       "    </tr>\n",
       "  </thead>\n",
       "  <tbody>\n",
       "    <tr>\n",
       "      <th>0</th>\n",
       "      <td>0</td>\n",
       "      <td>-0.2924</td>\n",
       "      <td>-0.3871</td>\n",
       "      <td>0.8317</td>\n",
       "      <td>0.2060</td>\n",
       "      <td>NaN</td>\n",
       "      <td>0.2060</td>\n",
       "      <td>-0.2424</td>\n",
       "      <td>82.9055</td>\n",
       "      <td>below_average</td>\n",
       "      <td>France</td>\n",
       "      <td>1</td>\n",
       "    </tr>\n",
       "    <tr>\n",
       "      <th>1</th>\n",
       "      <td>1</td>\n",
       "      <td>0.1389</td>\n",
       "      <td>0.3659</td>\n",
       "      <td>0.5547</td>\n",
       "      <td>NaN</td>\n",
       "      <td>0.6240</td>\n",
       "      <td>NaN</td>\n",
       "      <td>1.1762</td>\n",
       "      <td>27.3858</td>\n",
       "      <td>below_average</td>\n",
       "      <td>Finland</td>\n",
       "      <td>2</td>\n",
       "    </tr>\n",
       "    <tr>\n",
       "      <th>2</th>\n",
       "      <td>2</td>\n",
       "      <td>0.9248</td>\n",
       "      <td>-2.3541</td>\n",
       "      <td>0.8332</td>\n",
       "      <td>-0.0715</td>\n",
       "      <td>0.1905</td>\n",
       "      <td>-0.0715</td>\n",
       "      <td>-0.7963</td>\n",
       "      <td>78.9628</td>\n",
       "      <td>neutral</td>\n",
       "      <td>Germany</td>\n",
       "      <td>0</td>\n",
       "    </tr>\n",
       "    <tr>\n",
       "      <th>3</th>\n",
       "      <td>3</td>\n",
       "      <td>-0.4830</td>\n",
       "      <td>0.2304</td>\n",
       "      <td>-1.0753</td>\n",
       "      <td>-0.0744</td>\n",
       "      <td>-1.1175</td>\n",
       "      <td>-0.0744</td>\n",
       "      <td>-3.0012</td>\n",
       "      <td>80.2715</td>\n",
       "      <td>below_average</td>\n",
       "      <td>Finland</td>\n",
       "      <td>0</td>\n",
       "    </tr>\n",
       "    <tr>\n",
       "      <th>4</th>\n",
       "      <td>4</td>\n",
       "      <td>-0.6334</td>\n",
       "      <td>1.3354</td>\n",
       "      <td>2.0009</td>\n",
       "      <td>-0.3142</td>\n",
       "      <td>-0.7913</td>\n",
       "      <td>-0.3142</td>\n",
       "      <td>-0.0846</td>\n",
       "      <td>102.4383</td>\n",
       "      <td>average</td>\n",
       "      <td>Norway</td>\n",
       "      <td>1</td>\n",
       "    </tr>\n",
       "    <tr>\n",
       "      <th>...</th>\n",
       "      <td>...</td>\n",
       "      <td>...</td>\n",
       "      <td>...</td>\n",
       "      <td>...</td>\n",
       "      <td>...</td>\n",
       "      <td>...</td>\n",
       "      <td>...</td>\n",
       "      <td>...</td>\n",
       "      <td>...</td>\n",
       "      <td>...</td>\n",
       "      <td>...</td>\n",
       "      <td>...</td>\n",
       "    </tr>\n",
       "    <tr>\n",
       "      <th>415</th>\n",
       "      <td>415</td>\n",
       "      <td>-2.4103</td>\n",
       "      <td>-0.2195</td>\n",
       "      <td>1.8519</td>\n",
       "      <td>NaN</td>\n",
       "      <td>0.9716</td>\n",
       "      <td>NaN</td>\n",
       "      <td>-0.2128</td>\n",
       "      <td>114.0887</td>\n",
       "      <td>below_average</td>\n",
       "      <td>Switzerland</td>\n",
       "      <td>1</td>\n",
       "    </tr>\n",
       "    <tr>\n",
       "      <th>416</th>\n",
       "      <td>416</td>\n",
       "      <td>0.1458</td>\n",
       "      <td>-0.0600</td>\n",
       "      <td>-0.1449</td>\n",
       "      <td>NaN</td>\n",
       "      <td>NaN</td>\n",
       "      <td>NaN</td>\n",
       "      <td>3.0714</td>\n",
       "      <td>21.9961</td>\n",
       "      <td>above_average</td>\n",
       "      <td>Finland</td>\n",
       "      <td>1</td>\n",
       "    </tr>\n",
       "    <tr>\n",
       "      <th>417</th>\n",
       "      <td>417</td>\n",
       "      <td>-0.4520</td>\n",
       "      <td>0.0608</td>\n",
       "      <td>-0.9824</td>\n",
       "      <td>0.9211</td>\n",
       "      <td>1.5176</td>\n",
       "      <td>0.9211</td>\n",
       "      <td>-0.1139</td>\n",
       "      <td>50.7298</td>\n",
       "      <td>neutral</td>\n",
       "      <td>Italy</td>\n",
       "      <td>0</td>\n",
       "    </tr>\n",
       "    <tr>\n",
       "      <th>418</th>\n",
       "      <td>418</td>\n",
       "      <td>0.3949</td>\n",
       "      <td>-0.0913</td>\n",
       "      <td>0.0339</td>\n",
       "      <td>NaN</td>\n",
       "      <td>0.7586</td>\n",
       "      <td>NaN</td>\n",
       "      <td>0.0767</td>\n",
       "      <td>11.3839</td>\n",
       "      <td>extraordinary</td>\n",
       "      <td>Germany</td>\n",
       "      <td>1</td>\n",
       "    </tr>\n",
       "    <tr>\n",
       "      <th>419</th>\n",
       "      <td>419</td>\n",
       "      <td>1.7623</td>\n",
       "      <td>0.8737</td>\n",
       "      <td>-0.8829</td>\n",
       "      <td>NaN</td>\n",
       "      <td>-0.5120</td>\n",
       "      <td>NaN</td>\n",
       "      <td>0.3555</td>\n",
       "      <td>19.0997</td>\n",
       "      <td>neutral</td>\n",
       "      <td>Switzerland</td>\n",
       "      <td>0</td>\n",
       "    </tr>\n",
       "  </tbody>\n",
       "</table>\n",
       "<p>420 rows × 12 columns</p>\n",
       "</div>"
      ],
      "text/plain": [
       "     Unnamed: 0  Player_Score_0  Player_Score_1  Player_Score_2  \\\n",
       "0             0         -0.2924         -0.3871          0.8317   \n",
       "1             1          0.1389          0.3659          0.5547   \n",
       "2             2          0.9248         -2.3541          0.8332   \n",
       "3             3         -0.4830          0.2304         -1.0753   \n",
       "4             4         -0.6334          1.3354          2.0009   \n",
       "..          ...             ...             ...             ...   \n",
       "415         415         -2.4103         -0.2195          1.8519   \n",
       "416         416          0.1458         -0.0600         -0.1449   \n",
       "417         417         -0.4520          0.0608         -0.9824   \n",
       "418         418          0.3949         -0.0913          0.0339   \n",
       "419         419          1.7623          0.8737         -0.8829   \n",
       "\n",
       "     Player_Score_3  Player_Score_4  Player_Score_5  Player_Score_6     Score  \\\n",
       "0            0.2060             NaN          0.2060         -0.2424   82.9055   \n",
       "1               NaN          0.6240             NaN          1.1762   27.3858   \n",
       "2           -0.0715          0.1905         -0.0715         -0.7963   78.9628   \n",
       "3           -0.0744         -1.1175         -0.0744         -3.0012   80.2715   \n",
       "4           -0.3142         -0.7913         -0.3142         -0.0846  102.4383   \n",
       "..              ...             ...             ...             ...       ...   \n",
       "415             NaN          0.9716             NaN         -0.2128  114.0887   \n",
       "416             NaN             NaN             NaN          3.0714   21.9961   \n",
       "417          0.9211          1.5176          0.9211         -0.1139   50.7298   \n",
       "418             NaN          0.7586             NaN          0.0767   11.3839   \n",
       "419             NaN         -0.5120             NaN          0.3555   19.0997   \n",
       "\n",
       "       Performance      Country  Players_Injured  \n",
       "0    below_average       France                1  \n",
       "1    below_average      Finland                2  \n",
       "2          neutral      Germany                0  \n",
       "3    below_average      Finland                0  \n",
       "4          average       Norway                1  \n",
       "..             ...          ...              ...  \n",
       "415  below_average  Switzerland                1  \n",
       "416  above_average      Finland                1  \n",
       "417        neutral        Italy                0  \n",
       "418  extraordinary      Germany                1  \n",
       "419        neutral  Switzerland                0  \n",
       "\n",
       "[420 rows x 12 columns]"
      ]
     },
     "execution_count": 2,
     "metadata": {},
     "output_type": "execute_result"
    }
   ],
   "source": [
    "df_raw = pd.read_csv('Volley_Ball_Score.csv')\n",
    "df_raw"
   ]
  },
  {
   "cell_type": "code",
   "execution_count": 3,
   "metadata": {},
   "outputs": [
    {
     "data": {
      "text/plain": [
       "(420, 12)"
      ]
     },
     "execution_count": 3,
     "metadata": {},
     "output_type": "execute_result"
    }
   ],
   "source": [
    "df_raw.shape"
   ]
  },
  {
   "cell_type": "markdown",
   "metadata": {},
   "source": [
    "### Checking and changing types"
   ]
  },
  {
   "cell_type": "code",
   "execution_count": 4,
   "metadata": {},
   "outputs": [
    {
     "data": {
      "text/plain": [
       "Unnamed: 0           int64\n",
       "Player_Score_0     float64\n",
       "Player_Score_1     float64\n",
       "Player_Score_2     float64\n",
       "Player_Score_3     float64\n",
       "Player_Score_4     float64\n",
       "Player_Score_5     float64\n",
       "Player_Score_6     float64\n",
       "Score              float64\n",
       "Performance         object\n",
       "Country             object\n",
       "Players_Injured      int64\n",
       "dtype: object"
      ]
     },
     "execution_count": 4,
     "metadata": {},
     "output_type": "execute_result"
    }
   ],
   "source": [
    "df_raw.dtypes"
   ]
  },
  {
   "cell_type": "code",
   "execution_count": 5,
   "metadata": {},
   "outputs": [
    {
     "data": {
      "text/plain": [
       "Unnamed: 0            int64\n",
       "Player_Score_0      float64\n",
       "Player_Score_1      float64\n",
       "Player_Score_2      float64\n",
       "Player_Score_3      float64\n",
       "Player_Score_4      float64\n",
       "Player_Score_5      float64\n",
       "Player_Score_6      float64\n",
       "Score               float64\n",
       "Performance        category\n",
       "Country            category\n",
       "Players_Injured       int64\n",
       "dtype: object"
      ]
     },
     "execution_count": 5,
     "metadata": {},
     "output_type": "execute_result"
    }
   ],
   "source": [
    "data_types_dict = {'Performance': 'category', 'Country': 'category'}\n",
    "df_raw = df_raw.astype(data_types_dict)\n",
    "df_raw.dtypes"
   ]
  },
  {
   "cell_type": "markdown",
   "metadata": {},
   "source": [
    "There are 9 Numerical features and 2 Categorical features"
   ]
  },
  {
   "cell_type": "code",
   "execution_count": 6,
   "metadata": {},
   "outputs": [
    {
     "data": {
      "text/html": [
       "<div>\n",
       "<style scoped>\n",
       "    .dataframe tbody tr th:only-of-type {\n",
       "        vertical-align: middle;\n",
       "    }\n",
       "\n",
       "    .dataframe tbody tr th {\n",
       "        vertical-align: top;\n",
       "    }\n",
       "\n",
       "    .dataframe thead th {\n",
       "        text-align: right;\n",
       "    }\n",
       "</style>\n",
       "<table border=\"1\" class=\"dataframe\">\n",
       "  <thead>\n",
       "    <tr style=\"text-align: right;\">\n",
       "      <th></th>\n",
       "      <th>Unnamed: 0</th>\n",
       "      <th>Player_Score_0</th>\n",
       "      <th>Player_Score_1</th>\n",
       "      <th>Player_Score_2</th>\n",
       "      <th>Player_Score_3</th>\n",
       "      <th>Player_Score_4</th>\n",
       "      <th>Player_Score_5</th>\n",
       "      <th>Player_Score_6</th>\n",
       "      <th>Score</th>\n",
       "      <th>Performance</th>\n",
       "      <th>Country</th>\n",
       "      <th>Players_Injured</th>\n",
       "    </tr>\n",
       "  </thead>\n",
       "  <tbody>\n",
       "    <tr>\n",
       "      <th>0</th>\n",
       "      <td>0</td>\n",
       "      <td>-0.2924</td>\n",
       "      <td>-0.3871</td>\n",
       "      <td>0.8317</td>\n",
       "      <td>0.2060</td>\n",
       "      <td>NaN</td>\n",
       "      <td>0.2060</td>\n",
       "      <td>-0.2424</td>\n",
       "      <td>82.9055</td>\n",
       "      <td>below_average</td>\n",
       "      <td>France</td>\n",
       "      <td>1</td>\n",
       "    </tr>\n",
       "    <tr>\n",
       "      <th>1</th>\n",
       "      <td>1</td>\n",
       "      <td>0.1389</td>\n",
       "      <td>0.3659</td>\n",
       "      <td>0.5547</td>\n",
       "      <td>NaN</td>\n",
       "      <td>0.6240</td>\n",
       "      <td>NaN</td>\n",
       "      <td>1.1762</td>\n",
       "      <td>27.3858</td>\n",
       "      <td>below_average</td>\n",
       "      <td>Finland</td>\n",
       "      <td>2</td>\n",
       "    </tr>\n",
       "    <tr>\n",
       "      <th>2</th>\n",
       "      <td>2</td>\n",
       "      <td>0.9248</td>\n",
       "      <td>-2.3541</td>\n",
       "      <td>0.8332</td>\n",
       "      <td>-0.0715</td>\n",
       "      <td>0.1905</td>\n",
       "      <td>-0.0715</td>\n",
       "      <td>-0.7963</td>\n",
       "      <td>78.9628</td>\n",
       "      <td>neutral</td>\n",
       "      <td>Germany</td>\n",
       "      <td>0</td>\n",
       "    </tr>\n",
       "    <tr>\n",
       "      <th>3</th>\n",
       "      <td>3</td>\n",
       "      <td>-0.4830</td>\n",
       "      <td>0.2304</td>\n",
       "      <td>-1.0753</td>\n",
       "      <td>-0.0744</td>\n",
       "      <td>-1.1175</td>\n",
       "      <td>-0.0744</td>\n",
       "      <td>-3.0012</td>\n",
       "      <td>80.2715</td>\n",
       "      <td>below_average</td>\n",
       "      <td>Finland</td>\n",
       "      <td>0</td>\n",
       "    </tr>\n",
       "    <tr>\n",
       "      <th>4</th>\n",
       "      <td>4</td>\n",
       "      <td>-0.6334</td>\n",
       "      <td>1.3354</td>\n",
       "      <td>2.0009</td>\n",
       "      <td>-0.3142</td>\n",
       "      <td>-0.7913</td>\n",
       "      <td>-0.3142</td>\n",
       "      <td>-0.0846</td>\n",
       "      <td>102.4383</td>\n",
       "      <td>average</td>\n",
       "      <td>Norway</td>\n",
       "      <td>1</td>\n",
       "    </tr>\n",
       "    <tr>\n",
       "      <th>...</th>\n",
       "      <td>...</td>\n",
       "      <td>...</td>\n",
       "      <td>...</td>\n",
       "      <td>...</td>\n",
       "      <td>...</td>\n",
       "      <td>...</td>\n",
       "      <td>...</td>\n",
       "      <td>...</td>\n",
       "      <td>...</td>\n",
       "      <td>...</td>\n",
       "      <td>...</td>\n",
       "      <td>...</td>\n",
       "    </tr>\n",
       "    <tr>\n",
       "      <th>415</th>\n",
       "      <td>415</td>\n",
       "      <td>-2.4103</td>\n",
       "      <td>-0.2195</td>\n",
       "      <td>1.8519</td>\n",
       "      <td>NaN</td>\n",
       "      <td>0.9716</td>\n",
       "      <td>NaN</td>\n",
       "      <td>-0.2128</td>\n",
       "      <td>114.0887</td>\n",
       "      <td>below_average</td>\n",
       "      <td>Switzerland</td>\n",
       "      <td>1</td>\n",
       "    </tr>\n",
       "    <tr>\n",
       "      <th>416</th>\n",
       "      <td>416</td>\n",
       "      <td>0.1458</td>\n",
       "      <td>-0.0600</td>\n",
       "      <td>-0.1449</td>\n",
       "      <td>NaN</td>\n",
       "      <td>NaN</td>\n",
       "      <td>NaN</td>\n",
       "      <td>3.0714</td>\n",
       "      <td>21.9961</td>\n",
       "      <td>above_average</td>\n",
       "      <td>Finland</td>\n",
       "      <td>1</td>\n",
       "    </tr>\n",
       "    <tr>\n",
       "      <th>417</th>\n",
       "      <td>417</td>\n",
       "      <td>-0.4520</td>\n",
       "      <td>0.0608</td>\n",
       "      <td>-0.9824</td>\n",
       "      <td>0.9211</td>\n",
       "      <td>1.5176</td>\n",
       "      <td>0.9211</td>\n",
       "      <td>-0.1139</td>\n",
       "      <td>50.7298</td>\n",
       "      <td>neutral</td>\n",
       "      <td>Italy</td>\n",
       "      <td>0</td>\n",
       "    </tr>\n",
       "    <tr>\n",
       "      <th>418</th>\n",
       "      <td>418</td>\n",
       "      <td>0.3949</td>\n",
       "      <td>-0.0913</td>\n",
       "      <td>0.0339</td>\n",
       "      <td>NaN</td>\n",
       "      <td>0.7586</td>\n",
       "      <td>NaN</td>\n",
       "      <td>0.0767</td>\n",
       "      <td>11.3839</td>\n",
       "      <td>extraordinary</td>\n",
       "      <td>Germany</td>\n",
       "      <td>1</td>\n",
       "    </tr>\n",
       "    <tr>\n",
       "      <th>419</th>\n",
       "      <td>419</td>\n",
       "      <td>1.7623</td>\n",
       "      <td>0.8737</td>\n",
       "      <td>-0.8829</td>\n",
       "      <td>NaN</td>\n",
       "      <td>-0.5120</td>\n",
       "      <td>NaN</td>\n",
       "      <td>0.3555</td>\n",
       "      <td>19.0997</td>\n",
       "      <td>neutral</td>\n",
       "      <td>Switzerland</td>\n",
       "      <td>0</td>\n",
       "    </tr>\n",
       "  </tbody>\n",
       "</table>\n",
       "<p>420 rows × 12 columns</p>\n",
       "</div>"
      ],
      "text/plain": [
       "     Unnamed: 0  Player_Score_0  Player_Score_1  Player_Score_2  \\\n",
       "0             0         -0.2924         -0.3871          0.8317   \n",
       "1             1          0.1389          0.3659          0.5547   \n",
       "2             2          0.9248         -2.3541          0.8332   \n",
       "3             3         -0.4830          0.2304         -1.0753   \n",
       "4             4         -0.6334          1.3354          2.0009   \n",
       "..          ...             ...             ...             ...   \n",
       "415         415         -2.4103         -0.2195          1.8519   \n",
       "416         416          0.1458         -0.0600         -0.1449   \n",
       "417         417         -0.4520          0.0608         -0.9824   \n",
       "418         418          0.3949         -0.0913          0.0339   \n",
       "419         419          1.7623          0.8737         -0.8829   \n",
       "\n",
       "     Player_Score_3  Player_Score_4  Player_Score_5  Player_Score_6     Score  \\\n",
       "0            0.2060             NaN          0.2060         -0.2424   82.9055   \n",
       "1               NaN          0.6240             NaN          1.1762   27.3858   \n",
       "2           -0.0715          0.1905         -0.0715         -0.7963   78.9628   \n",
       "3           -0.0744         -1.1175         -0.0744         -3.0012   80.2715   \n",
       "4           -0.3142         -0.7913         -0.3142         -0.0846  102.4383   \n",
       "..              ...             ...             ...             ...       ...   \n",
       "415             NaN          0.9716             NaN         -0.2128  114.0887   \n",
       "416             NaN             NaN             NaN          3.0714   21.9961   \n",
       "417          0.9211          1.5176          0.9211         -0.1139   50.7298   \n",
       "418             NaN          0.7586             NaN          0.0767   11.3839   \n",
       "419             NaN         -0.5120             NaN          0.3555   19.0997   \n",
       "\n",
       "       Performance      Country  Players_Injured  \n",
       "0    below_average       France                1  \n",
       "1    below_average      Finland                2  \n",
       "2          neutral      Germany                0  \n",
       "3    below_average      Finland                0  \n",
       "4          average       Norway                1  \n",
       "..             ...          ...              ...  \n",
       "415  below_average  Switzerland                1  \n",
       "416  above_average      Finland                1  \n",
       "417        neutral        Italy                0  \n",
       "418  extraordinary      Germany                1  \n",
       "419        neutral  Switzerland                0  \n",
       "\n",
       "[420 rows x 12 columns]"
      ]
     },
     "execution_count": 6,
     "metadata": {},
     "output_type": "execute_result"
    }
   ],
   "source": [
    "df_raw"
   ]
  },
  {
   "cell_type": "markdown",
   "metadata": {},
   "source": [
    "### Checking duplicates"
   ]
  },
  {
   "cell_type": "code",
   "execution_count": 7,
   "metadata": {},
   "outputs": [
    {
     "data": {
      "text/plain": [
       "0"
      ]
     },
     "execution_count": 7,
     "metadata": {},
     "output_type": "execute_result"
    }
   ],
   "source": [
    "df_raw.duplicated(keep=False).sum()"
   ]
  },
  {
   "cell_type": "markdown",
   "metadata": {},
   "source": [
    "### Checking nulls"
   ]
  },
  {
   "cell_type": "code",
   "execution_count": 8,
   "metadata": {},
   "outputs": [
    {
     "data": {
      "text/plain": [
       "Unnamed: 0         0.000000\n",
       "Player_Score_0     0.000000\n",
       "Player_Score_1     0.000000\n",
       "Player_Score_2     0.000000\n",
       "Player_Score_3     0.280952\n",
       "Player_Score_4     0.185714\n",
       "Player_Score_5     0.350000\n",
       "Player_Score_6     0.000000\n",
       "Score              0.000000\n",
       "Performance        0.000000\n",
       "Country            0.000000\n",
       "Players_Injured    0.000000\n",
       "dtype: float64"
      ]
     },
     "execution_count": 8,
     "metadata": {},
     "output_type": "execute_result"
    }
   ],
   "source": [
    "df_raw.isnull().mean()"
   ]
  },
  {
   "cell_type": "code",
   "execution_count": 9,
   "metadata": {},
   "outputs": [
    {
     "data": {
      "text/plain": [
       "343"
      ]
     },
     "execution_count": 9,
     "metadata": {},
     "output_type": "execute_result"
    }
   ],
   "source": [
    "df_raw.isnull().sum().sum()\n"
   ]
  },
  {
   "cell_type": "markdown",
   "metadata": {},
   "source": [
    "3 columns have have missing values but none of them have more than 70% of rows with missing data. I will handle the missing values instead of elimination. "
   ]
  },
  {
   "cell_type": "code",
   "execution_count": 10,
   "metadata": {},
   "outputs": [
    {
     "data": {
      "image/png": "[encoded data removed]",
      "text/plain": [
       "<Figure size 720x360 with 3 Axes>"
      ]
     },
     "metadata": {
      "needs_background": "light"
     },
     "output_type": "display_data"
    }
   ],
   "source": [
    "missingno.bar(df_raw.iloc[:,:],color=\"green\", figsize=(10,5), fontsize=12);\n"
   ]
  },
  {
   "cell_type": "code",
   "execution_count": 11,
   "metadata": {},
   "outputs": [
    {
     "data": {
      "image/png": "[encoded data removed]",
      "text/plain": [
       "<Figure size 720x360 with 1 Axes>"
      ]
     },
     "metadata": {
      "needs_background": "light"
     },
     "output_type": "display_data"
    }
   ],
   "source": [
    "missingno.matrix(df_raw.iloc[:,:],figsize=(10,5), fontsize=12,sparkline=False);\n"
   ]
  },
  {
   "cell_type": "code",
   "execution_count": 12,
   "metadata": {},
   "outputs": [
    {
     "data": {
      "text/plain": [
       "array([[<AxesSubplot:title={'center':'Unnamed: 0'}>,\n",
       "        <AxesSubplot:title={'center':'Player_Score_0'}>,\n",
       "        <AxesSubplot:title={'center':'Player_Score_1'}>],\n",
       "       [<AxesSubplot:title={'center':'Player_Score_2'}>,\n",
       "        <AxesSubplot:title={'center':'Player_Score_3'}>,\n",
       "        <AxesSubplot:title={'center':'Player_Score_4'}>],\n",
       "       [<AxesSubplot:title={'center':'Player_Score_5'}>,\n",
       "        <AxesSubplot:title={'center':'Player_Score_6'}>,\n",
       "        <AxesSubplot:title={'center':'Score'}>],\n",
       "       [<AxesSubplot:title={'center':'Players_Injured'}>, <AxesSubplot:>,\n",
       "        <AxesSubplot:>]], dtype=object)"
      ]
     },
     "execution_count": 12,
     "metadata": {},
     "output_type": "execute_result"
    },
    {
     "data": {
      "image/png": "[encoded data removed]",
      "text/plain": [
       "<Figure size 432x288 with 12 Axes>"
      ]
     },
     "metadata": {
      "needs_background": "light"
     },
     "output_type": "display_data"
    }
   ],
   "source": [
    "df_raw.iloc[:,:].hist()\n"
   ]
  },
  {
   "cell_type": "code",
   "execution_count": 13,
   "metadata": {},
   "outputs": [
    {
     "data": {
      "image/png": "[encoded data removed]",
      "text/plain": [
       "<Figure size 720x360 with 2 Axes>"
      ]
     },
     "metadata": {
      "needs_background": "light"
     },
     "output_type": "display_data"
    }
   ],
   "source": [
    "missingno.heatmap(df_raw.iloc[:,:8], figsize=(10,5), fontsize=12);"
   ]
  },
  {
   "cell_type": "markdown",
   "metadata": {},
   "source": [
    "Making a deep copy of the dataset and using different duplicate filling methods."
   ]
  },
  {
   "cell_type": "markdown",
   "metadata": {},
   "source": [
    "## Duplicates with kNN"
   ]
  },
  {
   "cell_type": "code",
   "execution_count": 14,
   "metadata": {},
   "outputs": [],
   "source": [
    "df = df_raw.copy(deep=True)\n",
    "df.drop(columns=['Country', 'Performance','Unnamed: 0'], inplace=True)\n",
    "\n",
    "\n",
    "from sklearn.impute import KNNImputer\n",
    "knn_imp = KNNImputer(n_neighbors=3)\n",
    "# fit and transform the imputer on the dataset \n",
    "df_knn= pd.DataFrame(knn_imp.fit_transform(df), columns=df.columns)"
   ]
  },
  {
   "cell_type": "code",
   "execution_count": 15,
   "metadata": {},
   "outputs": [
    {
     "data": {
      "text/plain": [
       "Player_Score_0     0\n",
       "Player_Score_1     0\n",
       "Player_Score_2     0\n",
       "Player_Score_3     0\n",
       "Player_Score_4     0\n",
       "Player_Score_5     0\n",
       "Player_Score_6     0\n",
       "Score              0\n",
       "Players_Injured    0\n",
       "dtype: int64"
      ]
     },
     "execution_count": 15,
     "metadata": {},
     "output_type": "execute_result"
    }
   ],
   "source": [
    "df_knn.isnull().sum()"
   ]
  },
  {
   "cell_type": "markdown",
   "metadata": {},
   "source": [
    "### Plots of before and after"
   ]
  },
  {
   "cell_type": "code",
   "execution_count": 16,
   "metadata": {},
   "outputs": [
    {
     "data": {
      "text/plain": [
       "<AxesSubplot:ylabel='Density'>"
      ]
     },
     "execution_count": 16,
     "metadata": {},
     "output_type": "execute_result"
    },
    {
     "data": {
      "image/png": "[encoded data removed]",
      "text/plain": [
       "<Figure size 432x288 with 1 Axes>"
      ]
     },
     "metadata": {
      "needs_background": "light"
     },
     "output_type": "display_data"
    }
   ],
   "source": [
    "df['Player_Score_5'].plot.kde(color='r')\n",
    "df_knn[\"Player_Score_5\"].plot.kde(color='y')"
   ]
  },
  {
   "cell_type": "code",
   "execution_count": 17,
   "metadata": {},
   "outputs": [
    {
     "data": {
      "text/plain": [
       "0.06357975816122968"
      ]
     },
     "execution_count": 17,
     "metadata": {},
     "output_type": "execute_result"
    },
    {
     "data": {
      "image/png": "[encoded data removed]",
      "text/plain": [
       "<Figure size 432x288 with 1 Axes>"
      ]
     },
     "metadata": {
      "needs_background": "light"
     },
     "output_type": "display_data"
    }
   ],
   "source": [
    "#calculating the jensenshannon distance between the probability distributions before and after imputation\n",
    "from scipy.spatial import distance\n",
    "\n",
    "counts_imputed,nins_imputed,values_imputed = plt.hist(df_knn[\"Player_Score_5\"])\n",
    "counts_imputed_probabilities = counts_imputed / counts_imputed.sum()\n",
    "\n",
    "# probability distribution before imputation\n",
    "counts,nins,values = plt.hist(df[\"Player_Score_5\"])\n",
    "counts_probabilities = counts / counts.sum()\n",
    "\n",
    "# pdf distance calculation\n",
    "distance.jensenshannon(counts_imputed_probabilities,counts_probabilities)\n"
   ]
  },
  {
   "cell_type": "markdown",
   "metadata": {},
   "source": [
    "I won't use this because I can't predict a value between non correlated values such as different teams"
   ]
  },
  {
   "cell_type": "markdown",
   "metadata": {},
   "source": [
    "## Duplicates with Regression"
   ]
  },
  {
   "cell_type": "code",
   "execution_count": 18,
   "metadata": {},
   "outputs": [
    {
     "data": {
      "text/plain": [
       "<AxesSubplot:>"
      ]
     },
     "execution_count": 18,
     "metadata": {},
     "output_type": "execute_result"
    },
    {
     "data": {
      "image/png": "[encoded data removed]",
      "text/plain": [
       "<Figure size 432x288 with 2 Axes>"
      ]
     },
     "metadata": {
      "needs_background": "light"
     },
     "output_type": "display_data"
    }
   ],
   "source": [
    "sns.heatmap(df_raw.corr())"
   ]
  },
  {
   "cell_type": "code",
   "execution_count": 52,
   "metadata": {},
   "outputs": [
    {
     "name": "stderr",
     "output_type": "stream",
     "text": [
      "C:\\Users\\Lenovo\\AppData\\Local\\Temp\\ipykernel_24332\\2491396047.py:3: FutureWarning: In a future version of pandas all arguments of DataFrame.dropna will be keyword-only.\n",
      "  df_regr.dropna(df['Player_Score_3'])\n"
     ]
    },
    {
     "ename": "TypeError",
     "evalue": "unhashable type: 'Series'",
     "output_type": "error",
     "traceback": [
      "\u001b[1;31m---------------------------------------------------------------------------\u001b[0m",
      "\u001b[1;31mTypeError\u001b[0m                                 Traceback (most recent call last)",
      "\u001b[1;32mc:\\Users\\Lenovo\\Desktop\\Scuola\\sup learning\\supervised-learning-midterm\\midterm.ipynb Cell 32\u001b[0m in \u001b[0;36m<cell line: 3>\u001b[1;34m()\u001b[0m\n\u001b[0;32m      <a href='vscode-notebook-cell:/c%3A/Users/Lenovo/Desktop/Scuola/sup%20learning/supervised-learning-midterm/midterm.ipynb#X43sZmlsZQ%3D%3D?line=0'>1</a>\u001b[0m \u001b[39m#Choosing the columns without nan values to impute Player_Score_5.\u001b[39;00m\n\u001b[0;32m      <a href='vscode-notebook-cell:/c%3A/Users/Lenovo/Desktop/Scuola/sup%20learning/supervised-learning-midterm/midterm.ipynb#X43sZmlsZQ%3D%3D?line=1'>2</a>\u001b[0m df_regr \u001b[39m=\u001b[39m df_raw[[\u001b[39m'\u001b[39m\u001b[39mPlayer_Score_1\u001b[39m\u001b[39m'\u001b[39m,\u001b[39m'\u001b[39m\u001b[39mPlayer_Score_2\u001b[39m\u001b[39m'\u001b[39m,\u001b[39m'\u001b[39m\u001b[39mPlayer_Score_3\u001b[39m\u001b[39m'\u001b[39m,\u001b[39m'\u001b[39m\u001b[39mPlayer_Score_4\u001b[39m\u001b[39m'\u001b[39m,\u001b[39m'\u001b[39m\u001b[39mPlayer_Score_5\u001b[39m\u001b[39m'\u001b[39m]]\n\u001b[1;32m----> <a href='vscode-notebook-cell:/c%3A/Users/Lenovo/Desktop/Scuola/sup%20learning/supervised-learning-midterm/midterm.ipynb#X43sZmlsZQ%3D%3D?line=2'>3</a>\u001b[0m df_regr\u001b[39m.\u001b[39;49mdropna(df[\u001b[39m'\u001b[39;49m\u001b[39mPlayer_Score_3\u001b[39;49m\u001b[39m'\u001b[39;49m])\n\u001b[0;32m      <a href='vscode-notebook-cell:/c%3A/Users/Lenovo/Desktop/Scuola/sup%20learning/supervised-learning-midterm/midterm.ipynb#X43sZmlsZQ%3D%3D?line=5'>6</a>\u001b[0m \u001b[39mfrom\u001b[39;00m \u001b[39msklearn\u001b[39;00m\u001b[39m.\u001b[39;00m\u001b[39mlinear_model\u001b[39;00m \u001b[39mimport\u001b[39;00m LinearRegression\n\u001b[0;32m      <a href='vscode-notebook-cell:/c%3A/Users/Lenovo/Desktop/Scuola/sup%20learning/supervised-learning-midterm/midterm.ipynb#X43sZmlsZQ%3D%3D?line=6'>7</a>\u001b[0m lr_model \u001b[39m=\u001b[39m LinearRegression()\n",
      "File \u001b[1;32mc:\\Users\\Lenovo\\AppData\\Local\\Programs\\Python\\Python310\\lib\\site-packages\\pandas\\util\\_decorators.py:311\u001b[0m, in \u001b[0;36mdeprecate_nonkeyword_arguments.<locals>.decorate.<locals>.wrapper\u001b[1;34m(*args, **kwargs)\u001b[0m\n\u001b[0;32m    305\u001b[0m \u001b[39mif\u001b[39;00m \u001b[39mlen\u001b[39m(args) \u001b[39m>\u001b[39m num_allow_args:\n\u001b[0;32m    306\u001b[0m     warnings\u001b[39m.\u001b[39mwarn(\n\u001b[0;32m    307\u001b[0m         msg\u001b[39m.\u001b[39mformat(arguments\u001b[39m=\u001b[39marguments),\n\u001b[0;32m    308\u001b[0m         \u001b[39mFutureWarning\u001b[39;00m,\n\u001b[0;32m    309\u001b[0m         stacklevel\u001b[39m=\u001b[39mstacklevel,\n\u001b[0;32m    310\u001b[0m     )\n\u001b[1;32m--> 311\u001b[0m \u001b[39mreturn\u001b[39;00m func(\u001b[39m*\u001b[39margs, \u001b[39m*\u001b[39m\u001b[39m*\u001b[39mkwargs)\n",
      "File \u001b[1;32mc:\\Users\\Lenovo\\AppData\\Local\\Programs\\Python\\Python310\\lib\\site-packages\\pandas\\core\\frame.py:5996\u001b[0m, in \u001b[0;36mDataFrame.dropna\u001b[1;34m(self, axis, how, thresh, subset, inplace)\u001b[0m\n\u001b[0;32m   5992\u001b[0m \u001b[39mif\u001b[39;00m \u001b[39misinstance\u001b[39m(axis, (\u001b[39mtuple\u001b[39m, \u001b[39mlist\u001b[39m)):\n\u001b[0;32m   5993\u001b[0m     \u001b[39m# GH20987\u001b[39;00m\n\u001b[0;32m   5994\u001b[0m     \u001b[39mraise\u001b[39;00m \u001b[39mTypeError\u001b[39;00m(\u001b[39m\"\u001b[39m\u001b[39msupplying multiple axes to axis is no longer supported.\u001b[39m\u001b[39m\"\u001b[39m)\n\u001b[1;32m-> 5996\u001b[0m axis \u001b[39m=\u001b[39m \u001b[39mself\u001b[39;49m\u001b[39m.\u001b[39;49m_get_axis_number(axis)\n\u001b[0;32m   5997\u001b[0m agg_axis \u001b[39m=\u001b[39m \u001b[39m1\u001b[39m \u001b[39m-\u001b[39m axis\n\u001b[0;32m   5999\u001b[0m agg_obj \u001b[39m=\u001b[39m \u001b[39mself\u001b[39m\n",
      "File \u001b[1;32mc:\\Users\\Lenovo\\AppData\\Local\\Programs\\Python\\Python310\\lib\\site-packages\\pandas\\core\\generic.py:550\u001b[0m, in \u001b[0;36mNDFrame._get_axis_number\u001b[1;34m(cls, axis)\u001b[0m\n\u001b[0;32m    546\u001b[0m \u001b[39m@final\u001b[39m\n\u001b[0;32m    547\u001b[0m \u001b[39m@classmethod\u001b[39m\n\u001b[0;32m    548\u001b[0m \u001b[39mdef\u001b[39;00m \u001b[39m_get_axis_number\u001b[39m(\u001b[39mcls\u001b[39m, axis: Axis) \u001b[39m-\u001b[39m\u001b[39m>\u001b[39m \u001b[39mint\u001b[39m:\n\u001b[0;32m    549\u001b[0m     \u001b[39mtry\u001b[39;00m:\n\u001b[1;32m--> 550\u001b[0m         \u001b[39mreturn\u001b[39;00m \u001b[39mcls\u001b[39;49m\u001b[39m.\u001b[39;49m_AXIS_TO_AXIS_NUMBER[axis]\n\u001b[0;32m    551\u001b[0m     \u001b[39mexcept\u001b[39;00m \u001b[39mKeyError\u001b[39;00m:\n\u001b[0;32m    552\u001b[0m         \u001b[39mraise\u001b[39;00m \u001b[39mValueError\u001b[39;00m(\u001b[39mf\u001b[39m\u001b[39m\"\u001b[39m\u001b[39mNo axis named \u001b[39m\u001b[39m{\u001b[39;00maxis\u001b[39m}\u001b[39;00m\u001b[39m for object type \u001b[39m\u001b[39m{\u001b[39;00m\u001b[39mcls\u001b[39m\u001b[39m.\u001b[39m\u001b[39m__name__\u001b[39m\u001b[39m}\u001b[39;00m\u001b[39m\"\u001b[39m)\n",
      "\u001b[1;31mTypeError\u001b[0m: unhashable type: 'Series'"
     ]
    }
   ],
   "source": [
    "#Choosing the columns without nan values to impute Player_Score_5.\n",
    "df_regr = df_raw[['Player_Score_1','Player_Score_2','Player_Score_3','Player_Score_4','Player_Score_5']]\n",
    "df_regr.dropna(df['Player_Score_3'])\n",
    "\n",
    "\n",
    "from sklearn.linear_model import LinearRegression\n",
    "lr_model = LinearRegression()\n",
    "\n",
    "\n",
    "train_data = df_regr[df_regr['Player_Score_5'].isnull()==False]\n",
    "test_data = df_regr[df_regr['Player_Score_5'].isnull()==True]\n",
    "\n",
    "ps_5_before_imp = train_data['Player_Score_5']\n",
    "\n",
    "y = train_data['Player_Score_5'] #target is \"Player_Score_5\"\n",
    "train_data.drop(\"Player_Score_5\",axis=1,inplace=True) \n",
    "#features are all other features except \"Player_Score_5\"\n",
    "\n",
    "lr_model.fit(train_data,y)\n",
    "\n",
    "test_data.drop(\"Player_Score_5\",axis=1,inplace=True)\n",
    "\n",
    "# infer the missing values with the learned model\n",
    "pred = lr_model.predict(test_data)\n",
    "test_data['Player_Score_5']= pred\n"
   ]
  },
  {
   "cell_type": "code",
   "execution_count": 40,
   "metadata": {},
   "outputs": [
    {
     "name": "stderr",
     "output_type": "stream",
     "text": [
      "C:\\Users\\Lenovo\\AppData\\Local\\Temp\\ipykernel_24332\\3400574187.py:1: FutureWarning: The series.append method is deprecated and will be removed from pandas in a future version. Use pandas.concat instead.\n",
      "  ps_5_lr = ps_5_before_imp.append(test_data['Player_Score_5'])\n"
     ]
    }
   ],
   "source": [
    "ps_5_lr = ps_5_before_imp.append(test_data['Player_Score_5'])"
   ]
  },
  {
   "cell_type": "code",
   "execution_count": 41,
   "metadata": {},
   "outputs": [
    {
     "data": {
      "text/plain": [
       "<AxesSubplot:ylabel='Density'>"
      ]
     },
     "execution_count": 41,
     "metadata": {},
     "output_type": "execute_result"
    },
    {
     "data": {
      "image/png": "[encoded data removed]",
      "text/plain": [
       "<Figure size 432x288 with 1 Axes>"
      ]
     },
     "metadata": {
      "needs_background": "light"
     },
     "output_type": "display_data"
    }
   ],
   "source": [
    "#visualising the distribution before and after imputation\n",
    "\n",
    "#plotting the pdf after imputation\n",
    "df_regr['Player_Score_5'].plot.kde(color='r')\n",
    "\n",
    "\n",
    "#plotting the pdf before imputation\n",
    "ps_5_lr.plot.kde(color='y')"
   ]
  },
  {
   "cell_type": "code",
   "execution_count": 38,
   "metadata": {},
   "outputs": [
    {
     "data": {
      "text/plain": [
       "(420,)"
      ]
     },
     "execution_count": 38,
     "metadata": {},
     "output_type": "execute_result"
    }
   ],
   "source": [
    "ps_5_lr.shape"
   ]
  },
  {
   "cell_type": "markdown",
   "metadata": {},
   "source": [
    "### (a) Verify the features values distribution of the numerical variables?\n"
   ]
  },
  {
   "cell_type": "markdown",
   "metadata": {},
   "source": [
    "### (b) Is features transformation necessary for the numerical variables? Let’s take into account that we are preparing the dataset for a Linear Regression task, with the goal of building a \"Score\" predictive model. If transformation is necessary, after justifying your choices, do proceed as described."
   ]
  },
  {
   "cell_type": "markdown",
   "metadata": {},
   "source": [
    "### (c) Verify the presence of outliers and eventually handle them. Justify your choices."
   ]
  },
  {
   "cell_type": "markdown",
   "metadata": {},
   "source": [
    "### (d) Is encoding necessary for the categorical variables? If yes, which kind of encoding? Specify your choices, justify them and perform categorical data encoding, if necessary."
   ]
  },
  {
   "cell_type": "markdown",
   "metadata": {},
   "source": [
    "### (e) Increase the dimensionality of the dataset introducing Polynomial Features – degree = 3 (continuous variables)"
   ]
  },
  {
   "cell_type": "markdown",
   "metadata": {},
   "source": [
    "### (f) Eventually include any other transformation which might be necessary/appropriate and justify your choices."
   ]
  },
  {
   "cell_type": "markdown",
   "metadata": {},
   "source": [
    "## 3. Features Selection"
   ]
  },
  {
   "cell_type": "markdown",
   "metadata": {},
   "source": [
    "### (a) Perform One Way ANOVA and test the relationship between variable Country and Score. Eventually, consider the possibility to remove the feature. Justify your choice."
   ]
  },
  {
   "cell_type": "markdown",
   "metadata": {},
   "source": [
    "### (b) Perform Features Selection and visualize the features which have been selected. Select one appropriate methodology for features selection and justify your choice."
   ]
  },
  {
   "cell_type": "markdown",
   "metadata": {},
   "source": [
    "## 4. Linear Regression"
   ]
  },
  {
   "cell_type": "markdown",
   "metadata": {},
   "source": [
    "### (a) Train a Multiple Linear Regression model, using the Sklearn implementation of Linear Regression to find the best 𝜽 vector. Use all the transformed features, excluding the derived polynomial features. Evaluate the model with the learned 𝜽 on the test set.\n"
   ]
  },
  {
   "cell_type": "markdown",
   "metadata": {},
   "source": [
    "### (b) Use all the transformed features, excluding the derived polynomial features, to identify the best values of 𝜽 by means of a Batch Gradient Descent procedure. Identify the best values of 𝜼 (starting with an initial value of 𝜼 = 0.1 ). Evaluate the model with the trained 𝜽 on the test set. Plot the train and the test error for increasing number of iterations of the Gradient Descent procedure (with the best value of 𝜼). Provide a comment of the plot.\n"
   ]
  },
  {
   "cell_type": "markdown",
   "metadata": {},
   "source": [
    "### (c) Use the complete set of features, including the derived polynomial features. Train a Multiple Linear Regression model, using the Sklearn implementation of Linear Regression to find the best 𝜽 vector. Evaluate the model with the learned 𝜽 on the test set. Plot the train and the test error for increasing the size of the train-set (with the best value of 𝜼). Provide a comment of the plot.\n"
   ]
  },
  {
   "cell_type": "markdown",
   "metadata": {},
   "source": [
    "### (d) Use the complete set of features, including the derived polynomial features. Train a Ridge Regression model identifying the best value of the learning rate 𝜶 that allows the model to achieve the best generalization performances. Evaluate the model.\n"
   ]
  },
  {
   "cell_type": "markdown",
   "metadata": {},
   "source": [
    "### (e) Use the complete set of features, including the derived polynomial features. Train a Linear Regression model with Lasso regularization. Comment on the importance of each feature given the related trained parameter value of the trained model. Also, verify the number of features selected (related coefficient 𝜽 different from zero) with different values of 𝛼.\n"
   ]
  },
  {
   "cell_type": "markdown",
   "metadata": {},
   "source": [
    "### (f) Use the subset of features selected in the Feature Selection task (question 3b). Train a Multiple Linear Regression model using the Sklearn implementation of Linear Regression to find the best 𝜽 vector. Evaluate the model.\n"
   ]
  },
  {
   "cell_type": "markdown",
   "metadata": {},
   "source": [
    "### (g) Create a table with the evaluation results obtained from all the models above on both the train and test sets."
   ]
  },
  {
   "cell_type": "markdown",
   "metadata": {},
   "source": [
    "### (h) Compare and discuss the results obtained above."
   ]
  }
 ],
 "metadata": {
  "kernelspec": {
   "display_name": "Python 3.10.4 64-bit",
   "language": "python",
   "name": "python3"
  },
  "language_info": {
   "codemirror_mode": {
    "name": "ipython",
    "version": 3
   },
   "file_extension": ".py",
   "mimetype": "text/x-python",
   "name": "python",
   "nbconvert_exporter": "python",
   "pygments_lexer": "ipython3",
   "version": "3.10.4"
  },
  "orig_nbformat": 4,
  "vscode": {
   "interpreter": {
    "hash": "8c3d4d9970fc5c09c50d9318a9c7fbf4d0159e4b28833276f5678ee22bded273"
   }
  }
 },
 "nbformat": 4,
 "nbformat_minor": 2
}
