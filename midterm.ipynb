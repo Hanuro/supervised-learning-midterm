{
 "cells": [
  {
   "cell_type": "markdown",
   "metadata": {},
   "source": [
    "# Imports"
   ]
  },
  {
   "cell_type": "code",
   "execution_count": 275,
   "metadata": {},
   "outputs": [],
   "source": [
    "import pandas as pd\n",
    "import numpy as np\n",
    "import missingno\n",
    "import matplotlib.pyplot as plt\n",
    "from sklearn.linear_model import LinearRegression\n"
   ]
  },
  {
   "cell_type": "markdown",
   "metadata": {},
   "source": [
    "# Question 1:"
   ]
  },
  {
   "cell_type": "markdown",
   "metadata": {},
   "source": [
    "### Reading the dataset"
   ]
  },
  {
   "cell_type": "code",
   "execution_count": 276,
   "metadata": {},
   "outputs": [
    {
     "data": {
      "text/html": [
       "<div>\n",
       "<style scoped>\n",
       "    .dataframe tbody tr th:only-of-type {\n",
       "        vertical-align: middle;\n",
       "    }\n",
       "\n",
       "    .dataframe tbody tr th {\n",
       "        vertical-align: top;\n",
       "    }\n",
       "\n",
       "    .dataframe thead th {\n",
       "        text-align: right;\n",
       "    }\n",
       "</style>\n",
       "<table border=\"1\" class=\"dataframe\">\n",
       "  <thead>\n",
       "    <tr style=\"text-align: right;\">\n",
       "      <th></th>\n",
       "      <th>Unnamed: 0</th>\n",
       "      <th>Player_Score_0</th>\n",
       "      <th>Player_Score_1</th>\n",
       "      <th>Player_Score_2</th>\n",
       "      <th>Player_Score_3</th>\n",
       "      <th>Player_Score_4</th>\n",
       "      <th>Player_Score_5</th>\n",
       "      <th>Player_Score_6</th>\n",
       "      <th>Score</th>\n",
       "      <th>Performance</th>\n",
       "      <th>Country</th>\n",
       "      <th>Players_Injured</th>\n",
       "    </tr>\n",
       "  </thead>\n",
       "  <tbody>\n",
       "    <tr>\n",
       "      <th>0</th>\n",
       "      <td>0</td>\n",
       "      <td>-0.2924</td>\n",
       "      <td>-0.3871</td>\n",
       "      <td>0.8317</td>\n",
       "      <td>0.2060</td>\n",
       "      <td>NaN</td>\n",
       "      <td>0.2060</td>\n",
       "      <td>-0.2424</td>\n",
       "      <td>82.9055</td>\n",
       "      <td>below_average</td>\n",
       "      <td>France</td>\n",
       "      <td>1</td>\n",
       "    </tr>\n",
       "    <tr>\n",
       "      <th>1</th>\n",
       "      <td>1</td>\n",
       "      <td>0.1389</td>\n",
       "      <td>0.3659</td>\n",
       "      <td>0.5547</td>\n",
       "      <td>NaN</td>\n",
       "      <td>0.6240</td>\n",
       "      <td>NaN</td>\n",
       "      <td>1.1762</td>\n",
       "      <td>27.3858</td>\n",
       "      <td>below_average</td>\n",
       "      <td>Finland</td>\n",
       "      <td>2</td>\n",
       "    </tr>\n",
       "    <tr>\n",
       "      <th>2</th>\n",
       "      <td>2</td>\n",
       "      <td>0.9248</td>\n",
       "      <td>-2.3541</td>\n",
       "      <td>0.8332</td>\n",
       "      <td>-0.0715</td>\n",
       "      <td>0.1905</td>\n",
       "      <td>-0.0715</td>\n",
       "      <td>-0.7963</td>\n",
       "      <td>78.9628</td>\n",
       "      <td>neutral</td>\n",
       "      <td>Germany</td>\n",
       "      <td>0</td>\n",
       "    </tr>\n",
       "    <tr>\n",
       "      <th>3</th>\n",
       "      <td>3</td>\n",
       "      <td>-0.4830</td>\n",
       "      <td>0.2304</td>\n",
       "      <td>-1.0753</td>\n",
       "      <td>-0.0744</td>\n",
       "      <td>-1.1175</td>\n",
       "      <td>-0.0744</td>\n",
       "      <td>-3.0012</td>\n",
       "      <td>80.2715</td>\n",
       "      <td>below_average</td>\n",
       "      <td>Finland</td>\n",
       "      <td>0</td>\n",
       "    </tr>\n",
       "    <tr>\n",
       "      <th>4</th>\n",
       "      <td>4</td>\n",
       "      <td>-0.6334</td>\n",
       "      <td>1.3354</td>\n",
       "      <td>2.0009</td>\n",
       "      <td>-0.3142</td>\n",
       "      <td>-0.7913</td>\n",
       "      <td>-0.3142</td>\n",
       "      <td>-0.0846</td>\n",
       "      <td>102.4383</td>\n",
       "      <td>average</td>\n",
       "      <td>Norway</td>\n",
       "      <td>1</td>\n",
       "    </tr>\n",
       "    <tr>\n",
       "      <th>...</th>\n",
       "      <td>...</td>\n",
       "      <td>...</td>\n",
       "      <td>...</td>\n",
       "      <td>...</td>\n",
       "      <td>...</td>\n",
       "      <td>...</td>\n",
       "      <td>...</td>\n",
       "      <td>...</td>\n",
       "      <td>...</td>\n",
       "      <td>...</td>\n",
       "      <td>...</td>\n",
       "      <td>...</td>\n",
       "    </tr>\n",
       "    <tr>\n",
       "      <th>415</th>\n",
       "      <td>415</td>\n",
       "      <td>-2.4103</td>\n",
       "      <td>-0.2195</td>\n",
       "      <td>1.8519</td>\n",
       "      <td>NaN</td>\n",
       "      <td>0.9716</td>\n",
       "      <td>NaN</td>\n",
       "      <td>-0.2128</td>\n",
       "      <td>114.0887</td>\n",
       "      <td>below_average</td>\n",
       "      <td>Switzerland</td>\n",
       "      <td>1</td>\n",
       "    </tr>\n",
       "    <tr>\n",
       "      <th>416</th>\n",
       "      <td>416</td>\n",
       "      <td>0.1458</td>\n",
       "      <td>-0.0600</td>\n",
       "      <td>-0.1449</td>\n",
       "      <td>NaN</td>\n",
       "      <td>NaN</td>\n",
       "      <td>NaN</td>\n",
       "      <td>3.0714</td>\n",
       "      <td>21.9961</td>\n",
       "      <td>above_average</td>\n",
       "      <td>Finland</td>\n",
       "      <td>1</td>\n",
       "    </tr>\n",
       "    <tr>\n",
       "      <th>417</th>\n",
       "      <td>417</td>\n",
       "      <td>-0.4520</td>\n",
       "      <td>0.0608</td>\n",
       "      <td>-0.9824</td>\n",
       "      <td>0.9211</td>\n",
       "      <td>1.5176</td>\n",
       "      <td>0.9211</td>\n",
       "      <td>-0.1139</td>\n",
       "      <td>50.7298</td>\n",
       "      <td>neutral</td>\n",
       "      <td>Italy</td>\n",
       "      <td>0</td>\n",
       "    </tr>\n",
       "    <tr>\n",
       "      <th>418</th>\n",
       "      <td>418</td>\n",
       "      <td>0.3949</td>\n",
       "      <td>-0.0913</td>\n",
       "      <td>0.0339</td>\n",
       "      <td>NaN</td>\n",
       "      <td>0.7586</td>\n",
       "      <td>NaN</td>\n",
       "      <td>0.0767</td>\n",
       "      <td>11.3839</td>\n",
       "      <td>extraordinary</td>\n",
       "      <td>Germany</td>\n",
       "      <td>1</td>\n",
       "    </tr>\n",
       "    <tr>\n",
       "      <th>419</th>\n",
       "      <td>419</td>\n",
       "      <td>1.7623</td>\n",
       "      <td>0.8737</td>\n",
       "      <td>-0.8829</td>\n",
       "      <td>NaN</td>\n",
       "      <td>-0.5120</td>\n",
       "      <td>NaN</td>\n",
       "      <td>0.3555</td>\n",
       "      <td>19.0997</td>\n",
       "      <td>neutral</td>\n",
       "      <td>Switzerland</td>\n",
       "      <td>0</td>\n",
       "    </tr>\n",
       "  </tbody>\n",
       "</table>\n",
       "<p>420 rows × 12 columns</p>\n",
       "</div>"
      ],
      "text/plain": [
       "     Unnamed: 0  Player_Score_0  Player_Score_1  Player_Score_2  \\\n",
       "0             0         -0.2924         -0.3871          0.8317   \n",
       "1             1          0.1389          0.3659          0.5547   \n",
       "2             2          0.9248         -2.3541          0.8332   \n",
       "3             3         -0.4830          0.2304         -1.0753   \n",
       "4             4         -0.6334          1.3354          2.0009   \n",
       "..          ...             ...             ...             ...   \n",
       "415         415         -2.4103         -0.2195          1.8519   \n",
       "416         416          0.1458         -0.0600         -0.1449   \n",
       "417         417         -0.4520          0.0608         -0.9824   \n",
       "418         418          0.3949         -0.0913          0.0339   \n",
       "419         419          1.7623          0.8737         -0.8829   \n",
       "\n",
       "     Player_Score_3  Player_Score_4  Player_Score_5  Player_Score_6     Score  \\\n",
       "0            0.2060             NaN          0.2060         -0.2424   82.9055   \n",
       "1               NaN          0.6240             NaN          1.1762   27.3858   \n",
       "2           -0.0715          0.1905         -0.0715         -0.7963   78.9628   \n",
       "3           -0.0744         -1.1175         -0.0744         -3.0012   80.2715   \n",
       "4           -0.3142         -0.7913         -0.3142         -0.0846  102.4383   \n",
       "..              ...             ...             ...             ...       ...   \n",
       "415             NaN          0.9716             NaN         -0.2128  114.0887   \n",
       "416             NaN             NaN             NaN          3.0714   21.9961   \n",
       "417          0.9211          1.5176          0.9211         -0.1139   50.7298   \n",
       "418             NaN          0.7586             NaN          0.0767   11.3839   \n",
       "419             NaN         -0.5120             NaN          0.3555   19.0997   \n",
       "\n",
       "       Performance      Country  Players_Injured  \n",
       "0    below_average       France                1  \n",
       "1    below_average      Finland                2  \n",
       "2          neutral      Germany                0  \n",
       "3    below_average      Finland                0  \n",
       "4          average       Norway                1  \n",
       "..             ...          ...              ...  \n",
       "415  below_average  Switzerland                1  \n",
       "416  above_average      Finland                1  \n",
       "417        neutral        Italy                0  \n",
       "418  extraordinary      Germany                1  \n",
       "419        neutral  Switzerland                0  \n",
       "\n",
       "[420 rows x 12 columns]"
      ]
     },
     "execution_count": 276,
     "metadata": {},
     "output_type": "execute_result"
    }
   ],
   "source": [
    "df_raw = pd.read_csv('Volley_Ball_Score.csv')\n",
    "df_raw"
   ]
  },
  {
   "cell_type": "code",
   "execution_count": 277,
   "metadata": {},
   "outputs": [
    {
     "data": {
      "text/plain": [
       "(420, 12)"
      ]
     },
     "execution_count": 277,
     "metadata": {},
     "output_type": "execute_result"
    }
   ],
   "source": [
    "df_raw.shape"
   ]
  },
  {
   "cell_type": "markdown",
   "metadata": {},
   "source": [
    "### Checking and changing types"
   ]
  },
  {
   "cell_type": "code",
   "execution_count": 278,
   "metadata": {},
   "outputs": [
    {
     "data": {
      "text/plain": [
       "Unnamed: 0           int64\n",
       "Player_Score_0     float64\n",
       "Player_Score_1     float64\n",
       "Player_Score_2     float64\n",
       "Player_Score_3     float64\n",
       "Player_Score_4     float64\n",
       "Player_Score_5     float64\n",
       "Player_Score_6     float64\n",
       "Score              float64\n",
       "Performance         object\n",
       "Country             object\n",
       "Players_Injured      int64\n",
       "dtype: object"
      ]
     },
     "execution_count": 278,
     "metadata": {},
     "output_type": "execute_result"
    }
   ],
   "source": [
    "df_raw.dtypes"
   ]
  },
  {
   "cell_type": "code",
   "execution_count": 279,
   "metadata": {},
   "outputs": [
    {
     "data": {
      "text/plain": [
       "Unnamed: 0            int64\n",
       "Player_Score_0      float64\n",
       "Player_Score_1      float64\n",
       "Player_Score_2      float64\n",
       "Player_Score_3      float64\n",
       "Player_Score_4      float64\n",
       "Player_Score_5      float64\n",
       "Player_Score_6      float64\n",
       "Score               float64\n",
       "Performance        category\n",
       "Country            category\n",
       "Players_Injured       int64\n",
       "dtype: object"
      ]
     },
     "execution_count": 279,
     "metadata": {},
     "output_type": "execute_result"
    }
   ],
   "source": [
    "data_types_dict = {'Performance': 'category', 'Country': 'category'}\n",
    "df_raw = df_raw.astype(data_types_dict)\n",
    "df_raw.dtypes"
   ]
  },
  {
   "cell_type": "markdown",
   "metadata": {},
   "source": [
    "There are 9 Numerical features and 2 Categorical features"
   ]
  },
  {
   "cell_type": "code",
   "execution_count": 280,
   "metadata": {},
   "outputs": [
    {
     "data": {
      "text/html": [
       "<div>\n",
       "<style scoped>\n",
       "    .dataframe tbody tr th:only-of-type {\n",
       "        vertical-align: middle;\n",
       "    }\n",
       "\n",
       "    .dataframe tbody tr th {\n",
       "        vertical-align: top;\n",
       "    }\n",
       "\n",
       "    .dataframe thead th {\n",
       "        text-align: right;\n",
       "    }\n",
       "</style>\n",
       "<table border=\"1\" class=\"dataframe\">\n",
       "  <thead>\n",
       "    <tr style=\"text-align: right;\">\n",
       "      <th></th>\n",
       "      <th>Unnamed: 0</th>\n",
       "      <th>Player_Score_0</th>\n",
       "      <th>Player_Score_1</th>\n",
       "      <th>Player_Score_2</th>\n",
       "      <th>Player_Score_3</th>\n",
       "      <th>Player_Score_4</th>\n",
       "      <th>Player_Score_5</th>\n",
       "      <th>Player_Score_6</th>\n",
       "      <th>Score</th>\n",
       "      <th>Performance</th>\n",
       "      <th>Country</th>\n",
       "      <th>Players_Injured</th>\n",
       "    </tr>\n",
       "  </thead>\n",
       "  <tbody>\n",
       "    <tr>\n",
       "      <th>0</th>\n",
       "      <td>0</td>\n",
       "      <td>-0.2924</td>\n",
       "      <td>-0.3871</td>\n",
       "      <td>0.8317</td>\n",
       "      <td>0.2060</td>\n",
       "      <td>NaN</td>\n",
       "      <td>0.2060</td>\n",
       "      <td>-0.2424</td>\n",
       "      <td>82.9055</td>\n",
       "      <td>below_average</td>\n",
       "      <td>France</td>\n",
       "      <td>1</td>\n",
       "    </tr>\n",
       "    <tr>\n",
       "      <th>1</th>\n",
       "      <td>1</td>\n",
       "      <td>0.1389</td>\n",
       "      <td>0.3659</td>\n",
       "      <td>0.5547</td>\n",
       "      <td>NaN</td>\n",
       "      <td>0.6240</td>\n",
       "      <td>NaN</td>\n",
       "      <td>1.1762</td>\n",
       "      <td>27.3858</td>\n",
       "      <td>below_average</td>\n",
       "      <td>Finland</td>\n",
       "      <td>2</td>\n",
       "    </tr>\n",
       "    <tr>\n",
       "      <th>2</th>\n",
       "      <td>2</td>\n",
       "      <td>0.9248</td>\n",
       "      <td>-2.3541</td>\n",
       "      <td>0.8332</td>\n",
       "      <td>-0.0715</td>\n",
       "      <td>0.1905</td>\n",
       "      <td>-0.0715</td>\n",
       "      <td>-0.7963</td>\n",
       "      <td>78.9628</td>\n",
       "      <td>neutral</td>\n",
       "      <td>Germany</td>\n",
       "      <td>0</td>\n",
       "    </tr>\n",
       "    <tr>\n",
       "      <th>3</th>\n",
       "      <td>3</td>\n",
       "      <td>-0.4830</td>\n",
       "      <td>0.2304</td>\n",
       "      <td>-1.0753</td>\n",
       "      <td>-0.0744</td>\n",
       "      <td>-1.1175</td>\n",
       "      <td>-0.0744</td>\n",
       "      <td>-3.0012</td>\n",
       "      <td>80.2715</td>\n",
       "      <td>below_average</td>\n",
       "      <td>Finland</td>\n",
       "      <td>0</td>\n",
       "    </tr>\n",
       "    <tr>\n",
       "      <th>4</th>\n",
       "      <td>4</td>\n",
       "      <td>-0.6334</td>\n",
       "      <td>1.3354</td>\n",
       "      <td>2.0009</td>\n",
       "      <td>-0.3142</td>\n",
       "      <td>-0.7913</td>\n",
       "      <td>-0.3142</td>\n",
       "      <td>-0.0846</td>\n",
       "      <td>102.4383</td>\n",
       "      <td>average</td>\n",
       "      <td>Norway</td>\n",
       "      <td>1</td>\n",
       "    </tr>\n",
       "    <tr>\n",
       "      <th>...</th>\n",
       "      <td>...</td>\n",
       "      <td>...</td>\n",
       "      <td>...</td>\n",
       "      <td>...</td>\n",
       "      <td>...</td>\n",
       "      <td>...</td>\n",
       "      <td>...</td>\n",
       "      <td>...</td>\n",
       "      <td>...</td>\n",
       "      <td>...</td>\n",
       "      <td>...</td>\n",
       "      <td>...</td>\n",
       "    </tr>\n",
       "    <tr>\n",
       "      <th>415</th>\n",
       "      <td>415</td>\n",
       "      <td>-2.4103</td>\n",
       "      <td>-0.2195</td>\n",
       "      <td>1.8519</td>\n",
       "      <td>NaN</td>\n",
       "      <td>0.9716</td>\n",
       "      <td>NaN</td>\n",
       "      <td>-0.2128</td>\n",
       "      <td>114.0887</td>\n",
       "      <td>below_average</td>\n",
       "      <td>Switzerland</td>\n",
       "      <td>1</td>\n",
       "    </tr>\n",
       "    <tr>\n",
       "      <th>416</th>\n",
       "      <td>416</td>\n",
       "      <td>0.1458</td>\n",
       "      <td>-0.0600</td>\n",
       "      <td>-0.1449</td>\n",
       "      <td>NaN</td>\n",
       "      <td>NaN</td>\n",
       "      <td>NaN</td>\n",
       "      <td>3.0714</td>\n",
       "      <td>21.9961</td>\n",
       "      <td>above_average</td>\n",
       "      <td>Finland</td>\n",
       "      <td>1</td>\n",
       "    </tr>\n",
       "    <tr>\n",
       "      <th>417</th>\n",
       "      <td>417</td>\n",
       "      <td>-0.4520</td>\n",
       "      <td>0.0608</td>\n",
       "      <td>-0.9824</td>\n",
       "      <td>0.9211</td>\n",
       "      <td>1.5176</td>\n",
       "      <td>0.9211</td>\n",
       "      <td>-0.1139</td>\n",
       "      <td>50.7298</td>\n",
       "      <td>neutral</td>\n",
       "      <td>Italy</td>\n",
       "      <td>0</td>\n",
       "    </tr>\n",
       "    <tr>\n",
       "      <th>418</th>\n",
       "      <td>418</td>\n",
       "      <td>0.3949</td>\n",
       "      <td>-0.0913</td>\n",
       "      <td>0.0339</td>\n",
       "      <td>NaN</td>\n",
       "      <td>0.7586</td>\n",
       "      <td>NaN</td>\n",
       "      <td>0.0767</td>\n",
       "      <td>11.3839</td>\n",
       "      <td>extraordinary</td>\n",
       "      <td>Germany</td>\n",
       "      <td>1</td>\n",
       "    </tr>\n",
       "    <tr>\n",
       "      <th>419</th>\n",
       "      <td>419</td>\n",
       "      <td>1.7623</td>\n",
       "      <td>0.8737</td>\n",
       "      <td>-0.8829</td>\n",
       "      <td>NaN</td>\n",
       "      <td>-0.5120</td>\n",
       "      <td>NaN</td>\n",
       "      <td>0.3555</td>\n",
       "      <td>19.0997</td>\n",
       "      <td>neutral</td>\n",
       "      <td>Switzerland</td>\n",
       "      <td>0</td>\n",
       "    </tr>\n",
       "  </tbody>\n",
       "</table>\n",
       "<p>420 rows × 12 columns</p>\n",
       "</div>"
      ],
      "text/plain": [
       "     Unnamed: 0  Player_Score_0  Player_Score_1  Player_Score_2  \\\n",
       "0             0         -0.2924         -0.3871          0.8317   \n",
       "1             1          0.1389          0.3659          0.5547   \n",
       "2             2          0.9248         -2.3541          0.8332   \n",
       "3             3         -0.4830          0.2304         -1.0753   \n",
       "4             4         -0.6334          1.3354          2.0009   \n",
       "..          ...             ...             ...             ...   \n",
       "415         415         -2.4103         -0.2195          1.8519   \n",
       "416         416          0.1458         -0.0600         -0.1449   \n",
       "417         417         -0.4520          0.0608         -0.9824   \n",
       "418         418          0.3949         -0.0913          0.0339   \n",
       "419         419          1.7623          0.8737         -0.8829   \n",
       "\n",
       "     Player_Score_3  Player_Score_4  Player_Score_5  Player_Score_6     Score  \\\n",
       "0            0.2060             NaN          0.2060         -0.2424   82.9055   \n",
       "1               NaN          0.6240             NaN          1.1762   27.3858   \n",
       "2           -0.0715          0.1905         -0.0715         -0.7963   78.9628   \n",
       "3           -0.0744         -1.1175         -0.0744         -3.0012   80.2715   \n",
       "4           -0.3142         -0.7913         -0.3142         -0.0846  102.4383   \n",
       "..              ...             ...             ...             ...       ...   \n",
       "415             NaN          0.9716             NaN         -0.2128  114.0887   \n",
       "416             NaN             NaN             NaN          3.0714   21.9961   \n",
       "417          0.9211          1.5176          0.9211         -0.1139   50.7298   \n",
       "418             NaN          0.7586             NaN          0.0767   11.3839   \n",
       "419             NaN         -0.5120             NaN          0.3555   19.0997   \n",
       "\n",
       "       Performance      Country  Players_Injured  \n",
       "0    below_average       France                1  \n",
       "1    below_average      Finland                2  \n",
       "2          neutral      Germany                0  \n",
       "3    below_average      Finland                0  \n",
       "4          average       Norway                1  \n",
       "..             ...          ...              ...  \n",
       "415  below_average  Switzerland                1  \n",
       "416  above_average      Finland                1  \n",
       "417        neutral        Italy                0  \n",
       "418  extraordinary      Germany                1  \n",
       "419        neutral  Switzerland                0  \n",
       "\n",
       "[420 rows x 12 columns]"
      ]
     },
     "execution_count": 280,
     "metadata": {},
     "output_type": "execute_result"
    }
   ],
   "source": [
    "df_raw"
   ]
  },
  {
   "cell_type": "markdown",
   "metadata": {},
   "source": [
    "### Checking duplicates"
   ]
  },
  {
   "cell_type": "code",
   "execution_count": 281,
   "metadata": {},
   "outputs": [
    {
     "data": {
      "text/plain": [
       "0"
      ]
     },
     "execution_count": 281,
     "metadata": {},
     "output_type": "execute_result"
    }
   ],
   "source": [
    "df_raw.duplicated(keep=False).sum()"
   ]
  },
  {
   "cell_type": "markdown",
   "metadata": {},
   "source": [
    "### Checking nulls"
   ]
  },
  {
   "cell_type": "code",
   "execution_count": 282,
   "metadata": {},
   "outputs": [
    {
     "data": {
      "text/plain": [
       "Unnamed: 0         0.000000\n",
       "Player_Score_0     0.000000\n",
       "Player_Score_1     0.000000\n",
       "Player_Score_2     0.000000\n",
       "Player_Score_3     0.280952\n",
       "Player_Score_4     0.185714\n",
       "Player_Score_5     0.350000\n",
       "Player_Score_6     0.000000\n",
       "Score              0.000000\n",
       "Performance        0.000000\n",
       "Country            0.000000\n",
       "Players_Injured    0.000000\n",
       "dtype: float64"
      ]
     },
     "execution_count": 282,
     "metadata": {},
     "output_type": "execute_result"
    }
   ],
   "source": [
    "df_raw.isnull().mean()"
   ]
  },
  {
   "cell_type": "code",
   "execution_count": 283,
   "metadata": {},
   "outputs": [
    {
     "data": {
      "text/plain": [
       "343"
      ]
     },
     "execution_count": 283,
     "metadata": {},
     "output_type": "execute_result"
    }
   ],
   "source": [
    "df_raw.isnull().sum().sum()\n"
   ]
  },
  {
   "cell_type": "markdown",
   "metadata": {},
   "source": [
    "3 columns have have missing values but none of them have more than 70% of rows with missing data. I will handle the missing values instead of elimination. "
   ]
  },
  {
   "cell_type": "code",
   "execution_count": 284,
   "metadata": {},
   "outputs": [
    {
     "data": {
      "image/png": "[encoded data removed]",
      "text/plain": [
       "<Figure size 720x360 with 3 Axes>"
      ]
     },
     "metadata": {
      "needs_background": "light"
     },
     "output_type": "display_data"
    }
   ],
   "source": [
    "missingno.bar(df_raw.iloc[:,:],color=\"green\", figsize=(10,5), fontsize=12);\n"
   ]
  },
  {
   "cell_type": "code",
   "execution_count": 285,
   "metadata": {},
   "outputs": [
    {
     "data": {
      "image/png": "[encoded data removed]",
      "text/plain": [
       "<Figure size 720x360 with 1 Axes>"
      ]
     },
     "metadata": {
      "needs_background": "light"
     },
     "output_type": "display_data"
    }
   ],
   "source": [
    "missingno.matrix(df_raw.iloc[:,:],figsize=(10,5), fontsize=12,sparkline=False);\n"
   ]
  },
  {
   "cell_type": "code",
   "execution_count": 286,
   "metadata": {},
   "outputs": [
    {
     "data": {
      "text/plain": [
       "array([[<AxesSubplot:title={'center':'Unnamed: 0'}>,\n",
       "        <AxesSubplot:title={'center':'Player_Score_0'}>,\n",
       "        <AxesSubplot:title={'center':'Player_Score_1'}>],\n",
       "       [<AxesSubplot:title={'center':'Player_Score_2'}>,\n",
       "        <AxesSubplot:title={'center':'Player_Score_3'}>,\n",
       "        <AxesSubplot:title={'center':'Player_Score_4'}>],\n",
       "       [<AxesSubplot:title={'center':'Player_Score_5'}>,\n",
       "        <AxesSubplot:title={'center':'Player_Score_6'}>,\n",
       "        <AxesSubplot:title={'center':'Score'}>],\n",
       "       [<AxesSubplot:title={'center':'Players_Injured'}>, <AxesSubplot:>,\n",
       "        <AxesSubplot:>]], dtype=object)"
      ]
     },
     "execution_count": 286,
     "metadata": {},
     "output_type": "execute_result"
    },
    {
     "data": {
      "image/png": "[encoded data removed]",
      "text/plain": [
       "<Figure size 432x288 with 12 Axes>"
      ]
     },
     "metadata": {
      "needs_background": "light"
     },
     "output_type": "display_data"
    }
   ],
   "source": [
    "df_raw.iloc[:,:].hist()\n"
   ]
  },
  {
   "cell_type": "code",
   "execution_count": 287,
   "metadata": {},
   "outputs": [
    {
     "data": {
      "image/png": "[encoded data removed]",
      "text/plain": [
       "<Figure size 720x360 with 2 Axes>"
      ]
     },
     "metadata": {
      "needs_background": "light"
     },
     "output_type": "display_data"
    }
   ],
   "source": [
    "missingno.heatmap(df_raw.iloc[:,:8], figsize=(10,5), fontsize=12);"
   ]
  },
  {
   "cell_type": "markdown",
   "metadata": {},
   "source": [
    "Making a deep copy of the dataset and using different duplicate filling methods."
   ]
  },
  {
   "cell_type": "code",
   "execution_count": 288,
   "metadata": {},
   "outputs": [],
   "source": [
    "df = df_raw.copy(deep=True)\n",
    "df.drop(columns=['Country', 'Performance','Unnamed: 0'], inplace=True)\n"
   ]
  },
  {
   "cell_type": "markdown",
   "metadata": {},
   "source": [
    "## Duplicates with kNN"
   ]
  },
  {
   "cell_type": "code",
   "execution_count": 289,
   "metadata": {},
   "outputs": [],
   "source": [
    "\n",
    "from sklearn.impute import KNNImputer\n",
    "knn_imp = KNNImputer(n_neighbors=3)\n",
    "# fit and transform the imputer on the dataset \n",
    "df_knn= pd.DataFrame(knn_imp.fit_transform(df), columns=df.columns)"
   ]
  },
  {
   "cell_type": "code",
   "execution_count": 290,
   "metadata": {},
   "outputs": [
    {
     "data": {
      "text/plain": [
       "Player_Score_0     0\n",
       "Player_Score_1     0\n",
       "Player_Score_2     0\n",
       "Player_Score_3     0\n",
       "Player_Score_4     0\n",
       "Player_Score_5     0\n",
       "Player_Score_6     0\n",
       "Score              0\n",
       "Players_Injured    0\n",
       "dtype: int64"
      ]
     },
     "execution_count": 290,
     "metadata": {},
     "output_type": "execute_result"
    }
   ],
   "source": [
    "df_knn.isnull().sum()"
   ]
  },
  {
   "cell_type": "markdown",
   "metadata": {},
   "source": [
    "### Plots of before and after"
   ]
  },
  {
   "cell_type": "code",
   "execution_count": 291,
   "metadata": {},
   "outputs": [
    {
     "data": {
      "text/plain": [
       "<AxesSubplot:ylabel='Density'>"
      ]
     },
     "execution_count": 291,
     "metadata": {},
     "output_type": "execute_result"
    },
    {
     "data": {
      "image/png": "[encoded data removed]",
      "text/plain": [
       "<Figure size 432x288 with 1 Axes>"
      ]
     },
     "metadata": {
      "needs_background": "light"
     },
     "output_type": "display_data"
    }
   ],
   "source": [
    "df['Player_Score_5'].plot.kde(color='r')\n",
    "df_knn[\"Player_Score_5\"].plot.kde(color='y')"
   ]
  },
  {
   "cell_type": "code",
   "execution_count": 292,
   "metadata": {},
   "outputs": [
    {
     "data": {
      "text/plain": [
       "0.06357975816122968"
      ]
     },
     "execution_count": 292,
     "metadata": {},
     "output_type": "execute_result"
    },
    {
     "data": {
      "image/png": "[encoded data removed]",
      "text/plain": [
       "<Figure size 432x288 with 1 Axes>"
      ]
     },
     "metadata": {
      "needs_background": "light"
     },
     "output_type": "display_data"
    }
   ],
   "source": [
    "#calculating the jensenshannon distance between the probability distributions before and after imputation\n",
    "from scipy.spatial import distance\n",
    "\n",
    "counts_imputed,nins_imputed,values_imputed = plt.hist(df_knn[\"Player_Score_5\"])\n",
    "counts_imputed_probabilities = counts_imputed / counts_imputed.sum()\n",
    "\n",
    "# probability distribution before imputation\n",
    "counts,nins,values = plt.hist(df[\"Player_Score_5\"])\n",
    "counts_probabilities = counts / counts.sum()\n",
    "\n",
    "# pdf distance calculation\n",
    "distance.jensenshannon(counts_imputed_probabilities,counts_probabilities)\n"
   ]
  },
  {
   "cell_type": "markdown",
   "metadata": {},
   "source": [
    "I won't use this because I can't predict a value between non correlated values such as different teams"
   ]
  },
  {
   "cell_type": "markdown",
   "metadata": {},
   "source": [
    "## Duplicates with Regression"
   ]
  },
  {
   "cell_type": "code",
   "execution_count": 293,
   "metadata": {},
   "outputs": [
    {
     "name": "stderr",
     "output_type": "stream",
     "text": [
      "C:\\Users\\Lenovo\\AppData\\Local\\Temp\\ipykernel_21348\\1275939704.py:21: SettingWithCopyWarning: \n",
      "A value is trying to be set on a copy of a slice from a DataFrame\n",
      "\n",
      "See the caveats in the documentation: https://pandas.pydata.org/pandas-docs/stable/user_guide/indexing.html#returning-a-view-versus-a-copy\n",
      "  df_lr.drop([\"Player_Score_5\",\"Player_Score_2\"], axis=1,inplace=True)\n",
      "c:\\Users\\Lenovo\\AppData\\Local\\Programs\\Python\\Python310\\lib\\site-packages\\sklearn\\base.py:493: FutureWarning: The feature names should match those that were passed during fit. Starting version 1.2, an error will be raised.\n",
      "Feature names seen at fit time, yet now missing:\n",
      "- Player_Score_2\n",
      "\n",
      "  warnings.warn(message, FutureWarning)\n"
     ]
    },
    {
     "ename": "ValueError",
     "evalue": "X has 5 features, but LinearRegression is expecting 6 features as input.",
     "output_type": "error",
     "traceback": [
      "\u001b[1;31m---------------------------------------------------------------------------\u001b[0m",
      "\u001b[1;31mValueError\u001b[0m                                Traceback (most recent call last)",
      "\u001b[1;32mc:\\Users\\Lenovo\\Desktop\\Scuola\\sup learning\\supervised-learning-midterm\\midterm.ipynb Cell 31\u001b[0m in \u001b[0;36m<cell line: 23>\u001b[1;34m()\u001b[0m\n\u001b[0;32m     <a href='vscode-notebook-cell:/c%3A/Users/Lenovo/Desktop/Scuola/sup%20learning/supervised-learning-midterm/midterm.ipynb#X64sZmlsZQ%3D%3D?line=18'>19</a>\u001b[0m lr\u001b[39m.\u001b[39mfit(traindf,y)\n\u001b[0;32m     <a href='vscode-notebook-cell:/c%3A/Users/Lenovo/Desktop/Scuola/sup%20learning/supervised-learning-midterm/midterm.ipynb#X64sZmlsZQ%3D%3D?line=20'>21</a>\u001b[0m df_lr\u001b[39m.\u001b[39mdrop([\u001b[39m\"\u001b[39m\u001b[39mPlayer_Score_5\u001b[39m\u001b[39m\"\u001b[39m,\u001b[39m\"\u001b[39m\u001b[39mPlayer_Score_2\u001b[39m\u001b[39m\"\u001b[39m], axis\u001b[39m=\u001b[39m\u001b[39m1\u001b[39m,inplace\u001b[39m=\u001b[39m\u001b[39mTrue\u001b[39;00m)\n\u001b[1;32m---> <a href='vscode-notebook-cell:/c%3A/Users/Lenovo/Desktop/Scuola/sup%20learning/supervised-learning-midterm/midterm.ipynb#X64sZmlsZQ%3D%3D?line=22'>23</a>\u001b[0m pred \u001b[39m=\u001b[39m lr\u001b[39m.\u001b[39;49mpredict(df_lr)\n\u001b[0;32m     <a href='vscode-notebook-cell:/c%3A/Users/Lenovo/Desktop/Scuola/sup%20learning/supervised-learning-midterm/midterm.ipynb#X64sZmlsZQ%3D%3D?line=23'>24</a>\u001b[0m \u001b[39m# impute the blood pressure column with the prediction\u001b[39;00m\n\u001b[0;32m     <a href='vscode-notebook-cell:/c%3A/Users/Lenovo/Desktop/Scuola/sup%20learning/supervised-learning-midterm/midterm.ipynb#X64sZmlsZQ%3D%3D?line=24'>25</a>\u001b[0m df_lr[\u001b[39m'\u001b[39m\u001b[39mPlayer_Score_5\u001b[39m\u001b[39m'\u001b[39m]\u001b[39m=\u001b[39m pred\n",
      "File \u001b[1;32mc:\\Users\\Lenovo\\AppData\\Local\\Programs\\Python\\Python310\\lib\\site-packages\\sklearn\\linear_model\\_base.py:362\u001b[0m, in \u001b[0;36mLinearModel.predict\u001b[1;34m(self, X)\u001b[0m\n\u001b[0;32m    348\u001b[0m \u001b[39mdef\u001b[39;00m \u001b[39mpredict\u001b[39m(\u001b[39mself\u001b[39m, X):\n\u001b[0;32m    349\u001b[0m     \u001b[39m\"\"\"\u001b[39;00m\n\u001b[0;32m    350\u001b[0m \u001b[39m    Predict using the linear model.\u001b[39;00m\n\u001b[0;32m    351\u001b[0m \n\u001b[1;32m   (...)\u001b[0m\n\u001b[0;32m    360\u001b[0m \u001b[39m        Returns predicted values.\u001b[39;00m\n\u001b[0;32m    361\u001b[0m \u001b[39m    \"\"\"\u001b[39;00m\n\u001b[1;32m--> 362\u001b[0m     \u001b[39mreturn\u001b[39;00m \u001b[39mself\u001b[39;49m\u001b[39m.\u001b[39;49m_decision_function(X)\n",
      "File \u001b[1;32mc:\\Users\\Lenovo\\AppData\\Local\\Programs\\Python\\Python310\\lib\\site-packages\\sklearn\\linear_model\\_base.py:345\u001b[0m, in \u001b[0;36mLinearModel._decision_function\u001b[1;34m(self, X)\u001b[0m\n\u001b[0;32m    342\u001b[0m \u001b[39mdef\u001b[39;00m \u001b[39m_decision_function\u001b[39m(\u001b[39mself\u001b[39m, X):\n\u001b[0;32m    343\u001b[0m     check_is_fitted(\u001b[39mself\u001b[39m)\n\u001b[1;32m--> 345\u001b[0m     X \u001b[39m=\u001b[39m \u001b[39mself\u001b[39;49m\u001b[39m.\u001b[39;49m_validate_data(X, accept_sparse\u001b[39m=\u001b[39;49m[\u001b[39m\"\u001b[39;49m\u001b[39mcsr\u001b[39;49m\u001b[39m\"\u001b[39;49m, \u001b[39m\"\u001b[39;49m\u001b[39mcsc\u001b[39;49m\u001b[39m\"\u001b[39;49m, \u001b[39m\"\u001b[39;49m\u001b[39mcoo\u001b[39;49m\u001b[39m\"\u001b[39;49m], reset\u001b[39m=\u001b[39;49m\u001b[39mFalse\u001b[39;49;00m)\n\u001b[0;32m    346\u001b[0m     \u001b[39mreturn\u001b[39;00m safe_sparse_dot(X, \u001b[39mself\u001b[39m\u001b[39m.\u001b[39mcoef_\u001b[39m.\u001b[39mT, dense_output\u001b[39m=\u001b[39m\u001b[39mTrue\u001b[39;00m) \u001b[39m+\u001b[39m \u001b[39mself\u001b[39m\u001b[39m.\u001b[39mintercept_\n",
      "File \u001b[1;32mc:\\Users\\Lenovo\\AppData\\Local\\Programs\\Python\\Python310\\lib\\site-packages\\sklearn\\base.py:585\u001b[0m, in \u001b[0;36mBaseEstimator._validate_data\u001b[1;34m(self, X, y, reset, validate_separately, **check_params)\u001b[0m\n\u001b[0;32m    582\u001b[0m     out \u001b[39m=\u001b[39m X, y\n\u001b[0;32m    584\u001b[0m \u001b[39mif\u001b[39;00m \u001b[39mnot\u001b[39;00m no_val_X \u001b[39mand\u001b[39;00m check_params\u001b[39m.\u001b[39mget(\u001b[39m\"\u001b[39m\u001b[39mensure_2d\u001b[39m\u001b[39m\"\u001b[39m, \u001b[39mTrue\u001b[39;00m):\n\u001b[1;32m--> 585\u001b[0m     \u001b[39mself\u001b[39;49m\u001b[39m.\u001b[39;49m_check_n_features(X, reset\u001b[39m=\u001b[39;49mreset)\n\u001b[0;32m    587\u001b[0m \u001b[39mreturn\u001b[39;00m out\n",
      "File \u001b[1;32mc:\\Users\\Lenovo\\AppData\\Local\\Programs\\Python\\Python310\\lib\\site-packages\\sklearn\\base.py:400\u001b[0m, in \u001b[0;36mBaseEstimator._check_n_features\u001b[1;34m(self, X, reset)\u001b[0m\n\u001b[0;32m    397\u001b[0m     \u001b[39mreturn\u001b[39;00m\n\u001b[0;32m    399\u001b[0m \u001b[39mif\u001b[39;00m n_features \u001b[39m!=\u001b[39m \u001b[39mself\u001b[39m\u001b[39m.\u001b[39mn_features_in_:\n\u001b[1;32m--> 400\u001b[0m     \u001b[39mraise\u001b[39;00m \u001b[39mValueError\u001b[39;00m(\n\u001b[0;32m    401\u001b[0m         \u001b[39mf\u001b[39m\u001b[39m\"\u001b[39m\u001b[39mX has \u001b[39m\u001b[39m{\u001b[39;00mn_features\u001b[39m}\u001b[39;00m\u001b[39m features, but \u001b[39m\u001b[39m{\u001b[39;00m\u001b[39mself\u001b[39m\u001b[39m.\u001b[39m\u001b[39m__class__\u001b[39m\u001b[39m.\u001b[39m\u001b[39m__name__\u001b[39m\u001b[39m}\u001b[39;00m\u001b[39m \u001b[39m\u001b[39m\"\u001b[39m\n\u001b[0;32m    402\u001b[0m         \u001b[39mf\u001b[39m\u001b[39m\"\u001b[39m\u001b[39mis expecting \u001b[39m\u001b[39m{\u001b[39;00m\u001b[39mself\u001b[39m\u001b[39m.\u001b[39mn_features_in_\u001b[39m}\u001b[39;00m\u001b[39m features as input.\u001b[39m\u001b[39m\"\u001b[39m\n\u001b[0;32m    403\u001b[0m     )\n",
      "\u001b[1;31mValueError\u001b[0m: X has 5 features, but LinearRegression is expecting 6 features as input."
     ]
    }
   ],
   "source": [
    "# Create an instance of the class LinearRegression\n",
    "df = df_raw.copy(deep=True)\n",
    "\n",
    "df.drop(columns=['Country', 'Performance','Unnamed: 0', 'Player_Score_3', 'Player_Score_4'], inplace=True)\n",
    "\n",
    "df_new=df.copy(deep=True)\n",
    "\n",
    "lr = LinearRegression()\n",
    "\n",
    "df.fillna(0, inplace=True)\n",
    "df_lr = df[df['Player_Score_5']==0]\n",
    "\n",
    "traindf = df_new.drop('Player_Score_5',axis=1)\n",
    "\n",
    "# there are some nan values which is filled with 0, so we could use regression based imputation, if you dropped rows in both test and train df, it works as well. \n",
    "y = df_new['Player_Score_5'].fillna(0)\n",
    "\n",
    "# fit the imputer regression model on the training data.\n",
    "lr.fit(traindf,y)\n",
    "\n",
    "df_lr.drop([\"Player_Score_5\",\"Player_Score_2\"], axis=1,inplace=True)\n",
    "\n",
    "pred = lr.predict(df_lr)\n",
    "# impute the blood pressure column with the prediction\n",
    "df_lr['Player_Score_5'] = pred"
   ]
  },
  {
   "cell_type": "code",
   "execution_count": null,
   "metadata": {},
   "outputs": [],
   "source": []
  }
 ],
 "metadata": {
  "kernelspec": {
   "display_name": "Python 3.10.4 64-bit",
   "language": "python",
   "name": "python3"
  },
  "language_info": {
   "codemirror_mode": {
    "name": "ipython",
    "version": 3
   },
   "file_extension": ".py",
   "mimetype": "text/x-python",
   "name": "python",
   "nbconvert_exporter": "python",
   "pygments_lexer": "ipython3",
   "version": "3.10.4"
  },
  "orig_nbformat": 4,
  "vscode": {
   "interpreter": {
    "hash": "8c3d4d9970fc5c09c50d9318a9c7fbf4d0159e4b28833276f5678ee22bded273"
   }
  }
 },
 "nbformat": 4,
 "nbformat_minor": 2
}
